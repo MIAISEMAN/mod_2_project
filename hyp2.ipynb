{
 "cells": [
  {
   "cell_type": "code",
   "execution_count": 1,
   "metadata": {},
   "outputs": [],
   "source": [
    "import numpy as np\n",
    "from scipy import stats \n",
    "import math\n",
    "import seaborn as sns\n",
    "import matplotlib.pyplot as plt\n",
    "import numpy as np"
   ]
  },
  {
   "cell_type": "code",
   "execution_count": 2,
   "metadata": {},
   "outputs": [],
   "source": [
    "import sqlalchemy\n",
    "from sqlalchemy import create_engine\n",
    "from sqlalchemy.orm import Session, sessionmaker"
   ]
  },
  {
   "cell_type": "code",
   "execution_count": 3,
   "metadata": {},
   "outputs": [
    {
     "name": "stdout",
     "output_type": "stream",
     "text": [
      "2019-05-08 17:03:59,804 INFO sqlalchemy.engine.base.Engine select version()\n",
      "2019-05-08 17:03:59,805 INFO sqlalchemy.engine.base.Engine {}\n",
      "2019-05-08 17:03:59,807 INFO sqlalchemy.engine.base.Engine select current_schema()\n",
      "2019-05-08 17:03:59,808 INFO sqlalchemy.engine.base.Engine {}\n",
      "2019-05-08 17:03:59,810 INFO sqlalchemy.engine.base.Engine SELECT CAST('test plain returns' AS VARCHAR(60)) AS anon_1\n",
      "2019-05-08 17:03:59,810 INFO sqlalchemy.engine.base.Engine {}\n",
      "2019-05-08 17:03:59,812 INFO sqlalchemy.engine.base.Engine SELECT CAST('test unicode returns' AS VARCHAR(60)) AS anon_1\n",
      "2019-05-08 17:03:59,813 INFO sqlalchemy.engine.base.Engine {}\n",
      "2019-05-08 17:03:59,814 INFO sqlalchemy.engine.base.Engine show standard_conforming_strings\n",
      "2019-05-08 17:03:59,815 INFO sqlalchemy.engine.base.Engine {}\n"
     ]
    }
   ],
   "source": [
    "engine = create_engine(\"postgresql:///music\", echo=True)\n",
    "Session = sessionmaker(bind=engine)\n",
    "session = Session()\n",
    "con = engine.connect()"
   ]
  },
  {
   "cell_type": "code",
   "execution_count": 4,
   "metadata": {},
   "outputs": [
    {
     "name": "stdout",
     "output_type": "stream",
     "text": [
      "2019-05-08 17:03:59,821 INFO sqlalchemy.engine.base.Engine \n",
      "    SELECT best_new_music\n",
      "    FROM reviews\n",
      "    \n",
      "2019-05-08 17:03:59,823 INFO sqlalchemy.engine.base.Engine {}\n"
     ]
    }
   ],
   "source": [
    "query = \"\"\"\n",
    "    SELECT best_new_music\n",
    "    FROM reviews\n",
    "    \"\"\"\n",
    "result = con.execute(query).fetchall()\n",
    "bnms = np.array(result)"
   ]
  },
  {
   "cell_type": "code",
   "execution_count": 5,
   "metadata": {},
   "outputs": [],
   "source": [
    "bnm_list = [tup[0] for tup in bnms]"
   ]
  },
  {
   "cell_type": "code",
   "execution_count": 6,
   "metadata": {},
   "outputs": [
    {
     "data": {
      "text/plain": [
       "0"
      ]
     },
     "execution_count": 6,
     "metadata": {},
     "output_type": "execute_result"
    }
   ],
   "source": [
    "bnm_list[0]"
   ]
  },
  {
   "cell_type": "code",
   "execution_count": 7,
   "metadata": {},
   "outputs": [
    {
     "data": {
      "text/plain": [
       "0.05126950470287609"
      ]
     },
     "execution_count": 7,
     "metadata": {},
     "output_type": "execute_result"
    }
   ],
   "source": [
    "mu_pop = np.mean(bnm_list)\n",
    "mu_pop"
   ]
  },
  {
   "cell_type": "code",
   "execution_count": 8,
   "metadata": {},
   "outputs": [
    {
     "name": "stdout",
     "output_type": "stream",
     "text": [
      "2019-05-08 17:04:00,036 INFO sqlalchemy.engine.base.Engine \n",
      "    SELECT genre\n",
      "    FROM genres\n",
      "    GROUP BY genre\n",
      "    \n",
      "2019-05-08 17:04:00,037 INFO sqlalchemy.engine.base.Engine {}\n"
     ]
    }
   ],
   "source": [
    "query = \"\"\"\n",
    "    SELECT genre\n",
    "    FROM genres\n",
    "    GROUP BY genre\n",
    "    \"\"\"\n",
    "result = con.execute(query).fetchall()\n",
    "genres = np.array(result)"
   ]
  },
  {
   "cell_type": "code",
   "execution_count": 9,
   "metadata": {},
   "outputs": [],
   "source": [
    "genre_list = [tup[0] for tup in genres] "
   ]
  },
  {
   "cell_type": "code",
   "execution_count": 10,
   "metadata": {},
   "outputs": [
    {
     "data": {
      "text/plain": [
       "['global',\n",
       " 'experimental',\n",
       " 'metal',\n",
       " None,\n",
       " 'electronic',\n",
       " 'folk/country',\n",
       " 'pop/r&b',\n",
       " 'jazz',\n",
       " 'rap',\n",
       " 'rock']"
      ]
     },
     "execution_count": 10,
     "metadata": {},
     "output_type": "execute_result"
    }
   ],
   "source": [
    "genre_list"
   ]
  },
  {
   "cell_type": "code",
   "execution_count": 11,
   "metadata": {},
   "outputs": [],
   "source": [
    "genre_list.remove(None)"
   ]
  },
  {
   "cell_type": "code",
   "execution_count": 12,
   "metadata": {},
   "outputs": [
    {
     "data": {
      "text/plain": [
       "['global',\n",
       " 'experimental',\n",
       " 'metal',\n",
       " 'electronic',\n",
       " 'folk/country',\n",
       " 'pop/r&b',\n",
       " 'jazz',\n",
       " 'rap',\n",
       " 'rock']"
      ]
     },
     "execution_count": 12,
     "metadata": {},
     "output_type": "execute_result"
    }
   ],
   "source": [
    "genre_list"
   ]
  },
  {
   "cell_type": "code",
   "execution_count": 13,
   "metadata": {},
   "outputs": [
    {
     "name": "stdout",
     "output_type": "stream",
     "text": [
      "2019-05-08 17:04:00,068 INFO sqlalchemy.engine.base.Engine \n",
      "    SELECT best_new_music\n",
      "    FROM reviews\n",
      "    JOIN genres\n",
      "    USING (reviewid)\n",
      "    WHERE genre = 'global'\n",
      "    \n",
      "2019-05-08 17:04:00,070 INFO sqlalchemy.engine.base.Engine {}\n",
      "2019-05-08 17:04:00,075 INFO sqlalchemy.engine.base.Engine \n",
      "    SELECT best_new_music\n",
      "    FROM reviews\n",
      "    JOIN genres\n",
      "    USING (reviewid)\n",
      "    WHERE genre = 'experimental'\n",
      "    \n",
      "2019-05-08 17:04:00,076 INFO sqlalchemy.engine.base.Engine {}\n",
      "2019-05-08 17:04:00,082 INFO sqlalchemy.engine.base.Engine \n",
      "    SELECT best_new_music\n",
      "    FROM reviews\n",
      "    JOIN genres\n",
      "    USING (reviewid)\n",
      "    WHERE genre = 'metal'\n",
      "    \n",
      "2019-05-08 17:04:00,083 INFO sqlalchemy.engine.base.Engine {}\n",
      "2019-05-08 17:04:00,089 INFO sqlalchemy.engine.base.Engine \n",
      "    SELECT best_new_music\n",
      "    FROM reviews\n",
      "    JOIN genres\n",
      "    USING (reviewid)\n",
      "    WHERE genre = 'electronic'\n",
      "    \n",
      "2019-05-08 17:04:00,090 INFO sqlalchemy.engine.base.Engine {}\n",
      "2019-05-08 17:04:00,098 INFO sqlalchemy.engine.base.Engine \n",
      "    SELECT best_new_music\n",
      "    FROM reviews\n",
      "    JOIN genres\n",
      "    USING (reviewid)\n",
      "    WHERE genre = 'folk/country'\n",
      "    \n",
      "2019-05-08 17:04:00,099 INFO sqlalchemy.engine.base.Engine {}\n",
      "2019-05-08 17:04:00,105 INFO sqlalchemy.engine.base.Engine \n",
      "    SELECT best_new_music\n",
      "    FROM reviews\n",
      "    JOIN genres\n",
      "    USING (reviewid)\n",
      "    WHERE genre = 'pop/r&b'\n",
      "    \n",
      "2019-05-08 17:04:00,106 INFO sqlalchemy.engine.base.Engine {}\n",
      "2019-05-08 17:04:00,112 INFO sqlalchemy.engine.base.Engine \n",
      "    SELECT best_new_music\n",
      "    FROM reviews\n",
      "    JOIN genres\n",
      "    USING (reviewid)\n",
      "    WHERE genre = 'jazz'\n",
      "    \n",
      "2019-05-08 17:04:00,113 INFO sqlalchemy.engine.base.Engine {}\n",
      "2019-05-08 17:04:00,118 INFO sqlalchemy.engine.base.Engine \n",
      "    SELECT best_new_music\n",
      "    FROM reviews\n",
      "    JOIN genres\n",
      "    USING (reviewid)\n",
      "    WHERE genre = 'rap'\n",
      "    \n",
      "2019-05-08 17:04:00,119 INFO sqlalchemy.engine.base.Engine {}\n",
      "2019-05-08 17:04:00,126 INFO sqlalchemy.engine.base.Engine \n",
      "    SELECT best_new_music\n",
      "    FROM reviews\n",
      "    JOIN genres\n",
      "    USING (reviewid)\n",
      "    WHERE genre = 'rock'\n",
      "    \n",
      "2019-05-08 17:04:00,126 INFO sqlalchemy.engine.base.Engine {}\n"
     ]
    }
   ],
   "source": [
    "bnm_by_genre = {}\n",
    "for genre in genre_list:\n",
    "    query = f\"\"\"\n",
    "    SELECT best_new_music\n",
    "    FROM reviews\n",
    "    JOIN genres\n",
    "    USING (reviewid)\n",
    "    WHERE genre = '{genre}'\n",
    "    \"\"\"\n",
    "    result = con.execute(query).fetchall() \n",
    "    bnm_list = [tup[0] for tup in result]\n",
    "    bnm_by_genre[genre]=bnm_list"
   ]
  },
  {
   "cell_type": "code",
   "execution_count": 14,
   "metadata": {},
   "outputs": [],
   "source": [
    "alpha = 0.1\n",
    "bonferroni_alpha = alpha / len(genre_list)"
   ]
  },
  {
   "cell_type": "code",
   "execution_count": 15,
   "metadata": {},
   "outputs": [],
   "source": [
    "tests_by_genre = {}\n",
    "for genre in bnm_by_genre:\n",
    "    bnms = bnm_by_genre[genre]\n",
    "    t_val, p_val = stats.ttest_1samp(bnms, mu_pop)\n",
    "    tests_by_genre[genre] = {\n",
    "        't_val' : t_val,\n",
    "        't_crit' : stats.t.ppf(1-bonferroni_alpha, len(bnms) -1),\n",
    "        'p_val' : p_val,\n",
    "    }"
   ]
  },
  {
   "cell_type": "code",
   "execution_count": 16,
   "metadata": {},
   "outputs": [
    {
     "data": {
      "text/plain": [
       "{'t_val': -0.7566877930227294,\n",
       " 't_crit': 2.3029922469382376,\n",
       " 'p_val': 0.45005391992707033}"
      ]
     },
     "execution_count": 16,
     "metadata": {},
     "output_type": "execute_result"
    }
   ],
   "source": [
    "tests_by_genre['global']"
   ]
  },
  {
   "cell_type": "code",
   "execution_count": 36,
   "metadata": {},
   "outputs": [],
   "source": [
    "test_results_by_genre = {}\n",
    "for genre in tests_by_genre:\n",
    "    t_val = tests_by_genre[genre]['t_val']\n",
    "    t_crit = tests_by_genre[genre]['t_crit']\n",
    "    p_val = tests_by_genre[genre]['p_val']\n",
    "    if np.abs(t_val) > np.abs(t_crit) and np.abs(p_val) < bonferroni_alpha:\n",
    "        test_results_by_genre[genre] = f'This indicates ' \\\n",
    "        f'that the alternative hypothesis is accepted with a p-val of {p_val}.'\n",
    "    else: \n",
    "        test_results_by_genre[genre] = 'We fail to reject the null hypothesis.'\n",
    "        "
   ]
  },
  {
   "cell_type": "code",
   "execution_count": 37,
   "metadata": {},
   "outputs": [
    {
     "data": {
      "text/plain": [
       "{'global': 'We fail to reject the null hypothesis.',\n",
       " 'experimental': 'This indicates that the alternative hypothesis is accepted with a p-val of 0.006737474504092826.',\n",
       " 'metal': 'This indicates that the alternative hypothesis is accepted with a p-val of 0.00031043031912163075.',\n",
       " 'electronic': 'We fail to reject the null hypothesis.',\n",
       " 'folk/country': 'We fail to reject the null hypothesis.',\n",
       " 'pop/r&b': 'We fail to reject the null hypothesis.',\n",
       " 'jazz': 'We fail to reject the null hypothesis.',\n",
       " 'rap': 'We fail to reject the null hypothesis.',\n",
       " 'rock': 'We fail to reject the null hypothesis.'}"
      ]
     },
     "execution_count": 37,
     "metadata": {},
     "output_type": "execute_result"
    }
   ],
   "source": [
    "test_results_by_genre"
   ]
  },
  {
   "cell_type": "code",
   "execution_count": 38,
   "metadata": {},
   "outputs": [
    {
     "data": {
      "text/plain": [
       "{'global': {'t_val': -0.7566877930227294,\n",
       "  't_crit': 2.3029922469382376,\n",
       "  'p_val': 0.45005391992707033},\n",
       " 'experimental': {'t_val': 2.712667340358848,\n",
       "  't_crit': 2.2885122631793666,\n",
       "  'p_val': 0.006737474504092826},\n",
       " 'metal': {'t_val': -3.6211575950131696,\n",
       "  't_crit': 2.290690243733693,\n",
       "  'p_val': 0.00031043031912163075},\n",
       " 'electronic': {'t_val': -0.870763140434117,\n",
       "  't_crit': 2.2874675746937077,\n",
       "  'p_val': 0.3839374628045431},\n",
       " 'folk/country': {'t_val': -1.593193149477528,\n",
       "  't_crit': 2.2917644970463025,\n",
       "  'p_val': 0.1115788415997883},\n",
       " 'pop/r&b': {'t_val': 1.294829883663111,\n",
       "  't_crit': 2.289038550669228,\n",
       "  'p_val': 0.1955877965837994},\n",
       " 'jazz': {'t_val': -1.3103617221416028,\n",
       "  't_crit': 2.294779786135665,\n",
       "  'p_val': 0.19076654702094978},\n",
       " 'rap': {'t_val': -0.10725778282023768,\n",
       "  't_crit': 2.288835335272128,\n",
       "  'p_val': 0.9145982851368573},\n",
       " 'rock': {'t_val': 2.0618796291729073,\n",
       "  't_crit': 2.2869252842832197,\n",
       "  'p_val': 0.03924651490612707}}"
      ]
     },
     "execution_count": 38,
     "metadata": {},
     "output_type": "execute_result"
    }
   ],
   "source": [
    "tests_by_genre"
   ]
  },
  {
   "cell_type": "code",
   "execution_count": null,
   "metadata": {},
   "outputs": [],
   "source": []
  }
 ],
 "metadata": {
  "kernelspec": {
   "display_name": "learn-env",
   "language": "python",
   "name": "learn-env"
  },
  "language_info": {
   "codemirror_mode": {
    "name": "ipython",
    "version": 3
   },
   "file_extension": ".py",
   "mimetype": "text/x-python",
   "name": "python",
   "nbconvert_exporter": "python",
   "pygments_lexer": "ipython3",
   "version": "3.6.6"
  }
 },
 "nbformat": 4,
 "nbformat_minor": 2
}
