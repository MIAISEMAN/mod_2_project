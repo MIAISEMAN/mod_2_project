{
 "cells": [
  {
   "cell_type": "code",
   "execution_count": 2,
   "metadata": {},
   "outputs": [],
   "source": [
    "import numpy as np\n",
    "from scipy import stats \n",
    "import math\n",
    "import seaborn as sns\n",
    "import matplotlib.pyplot as plt\n",
    "import numpy as np\n",
    "import sqlalchemy\n",
    "from sqlalchemy import create_engine\n",
    "from sqlalchemy.orm import Session, sessionmaker"
   ]
  },
  {
   "cell_type": "code",
   "execution_count": 3,
   "metadata": {},
   "outputs": [
    {
     "name": "stdout",
     "output_type": "stream",
     "text": [
      "2019-05-08 08:53:36,505 INFO sqlalchemy.engine.base.Engine select version()\n",
      "2019-05-08 08:53:36,507 INFO sqlalchemy.engine.base.Engine {}\n",
      "2019-05-08 08:53:36,509 INFO sqlalchemy.engine.base.Engine select current_schema()\n",
      "2019-05-08 08:53:36,510 INFO sqlalchemy.engine.base.Engine {}\n",
      "2019-05-08 08:53:36,512 INFO sqlalchemy.engine.base.Engine SELECT CAST('test plain returns' AS VARCHAR(60)) AS anon_1\n",
      "2019-05-08 08:53:36,512 INFO sqlalchemy.engine.base.Engine {}\n",
      "2019-05-08 08:53:36,514 INFO sqlalchemy.engine.base.Engine SELECT CAST('test unicode returns' AS VARCHAR(60)) AS anon_1\n",
      "2019-05-08 08:53:36,515 INFO sqlalchemy.engine.base.Engine {}\n",
      "2019-05-08 08:53:36,516 INFO sqlalchemy.engine.base.Engine show standard_conforming_strings\n",
      "2019-05-08 08:53:36,516 INFO sqlalchemy.engine.base.Engine {}\n"
     ]
    }
   ],
   "source": [
    "engine = create_engine(\"postgresql:///music\", echo=True)\n",
    "Session = sessionmaker(bind=engine)\n",
    "session = Session()\n",
    "con = engine.connect()"
   ]
  },
  {
   "cell_type": "code",
   "execution_count": 11,
   "metadata": {},
   "outputs": [
    {
     "name": "stdout",
     "output_type": "stream",
     "text": [
      "2019-05-08 08:57:14,900 INFO sqlalchemy.engine.base.Engine \n",
      "    SELECT artist, count(reviews), avg(score)\n",
      "    FROM reviews\n",
      "    WHERE pub_date NOT IN (SELECT pub_date FROM reviews WHERE pub_date < '2014-01-01' AND pub_date > '2010-01-01')\n",
      "    AND artist in (SELECT artist FROM reviews where pub_date < '2010-01-01')\n",
      "    AND artist in (SELECT artist FROM reviews where pub_date > '2014-01-01')\n",
      "    GROUP BY artist\n",
      "    ORDER BY avg(score) DESC\n",
      "    \n",
      "2019-05-08 08:57:14,901 INFO sqlalchemy.engine.base.Engine {}\n"
     ]
    },
    {
     "data": {
      "text/plain": [
       "715"
      ]
     },
     "execution_count": 11,
     "metadata": {},
     "output_type": "execute_result"
    }
   ],
   "source": [
    "query = \"\"\"\n",
    "    SELECT artist, count(reviews), avg(score)\n",
    "    FROM reviews\n",
    "    WHERE pub_date NOT IN (SELECT pub_date FROM reviews WHERE pub_date < '2014-01-01' AND pub_date > '2010-01-01')\n",
    "    AND artist in (SELECT artist FROM reviews where pub_date < '2010-01-01')\n",
    "    AND artist in (SELECT artist FROM reviews where pub_date > '2014-01-01')\n",
    "    GROUP BY artist\n",
    "    ORDER BY avg(score) DESC\n",
    "    \"\"\"\n",
    "result = con.execute(query).fetchall()\n",
    "result[1:20]\n",
    "len(result)"
   ]
  },
  {
   "cell_type": "code",
   "execution_count": 20,
   "metadata": {},
   "outputs": [
    {
     "name": "stdout",
     "output_type": "stream",
     "text": [
      "2019-05-08 09:14:07,882 INFO sqlalchemy.engine.base.Engine \n",
      "    SELECT artist, count(reviews), avg(score)\n",
      "    FROM reviews\n",
      "    WHERE (pub_date < '2010-01-01'\n",
      "    OR pub_date > '2014-01-01')\n",
      "    AND artist in (SELECT artist FROM reviews where pub_date < '2010-01-01')\n",
      "    AND artist in (SELECT artist FROM reviews where pub_date > '2014-01-01')\n",
      "    GROUP BY artist\n",
      "    ORDER BY avg(score) DESC\n",
      "    \n",
      "2019-05-08 09:14:07,883 INFO sqlalchemy.engine.base.Engine {}\n"
     ]
    },
    {
     "data": {
      "text/plain": [
       "715"
      ]
     },
     "execution_count": 20,
     "metadata": {},
     "output_type": "execute_result"
    }
   ],
   "source": [
    "query = \"\"\"\n",
    "    SELECT artist, count(reviews), avg(score)\n",
    "    FROM reviews\n",
    "    WHERE (pub_date < '2010-01-01'\n",
    "    OR pub_date > '2014-01-01')\n",
    "    AND artist in (SELECT artist FROM reviews where pub_date < '2010-01-01')\n",
    "    AND artist in (SELECT artist FROM reviews where pub_date > '2014-01-01')\n",
    "    GROUP BY artist\n",
    "    ORDER BY avg(score) DESC\n",
    "    \"\"\"\n",
    "result = con.execute(query).fetchall()\n",
    "result[1:20]\n",
    "len(result)"
   ]
  },
  {
   "cell_type": "code",
   "execution_count": 27,
   "metadata": {},
   "outputs": [
    {
     "name": "stdout",
     "output_type": "stream",
     "text": [
      "2019-05-08 09:31:47,517 INFO sqlalchemy.engine.base.Engine \n",
      "    SELECT artist, count(reviews), avg(score)\n",
      "    FROM reviews\n",
      "    WHERE (pub_date < '2010-01-01'\n",
      "    OR pub_date > '2014-01-01')\n",
      "    AND artist in \n",
      "        (SELECT artist \n",
      "        FROM reviews \n",
      "        WHERE pub_date < '2010-01-01'\n",
      "        GROUP BY artist\n",
      "        ORDER BY avg(score))\n",
      "    AND artist in \n",
      "        (SELECT artist \n",
      "        FROM reviews \n",
      "        WHERE pub_date > '2014-01-01')\n",
      "    GROUP BY artist\n",
      "    ORDER BY avg(score) DESC\n",
      "    \n",
      "2019-05-08 09:31:47,518 INFO sqlalchemy.engine.base.Engine {}\n"
     ]
    },
    {
     "data": {
      "text/plain": [
       "715"
      ]
     },
     "execution_count": 27,
     "metadata": {},
     "output_type": "execute_result"
    }
   ],
   "source": [
    "query = \"\"\"\n",
    "    SELECT artist, count(reviews), avg(score)\n",
    "    FROM reviews\n",
    "    WHERE (pub_date < '2010-01-01'\n",
    "    OR pub_date > '2014-01-01')\n",
    "    AND artist in \n",
    "        (SELECT artist \n",
    "        FROM reviews \n",
    "        WHERE pub_date < '2010-01-01'\n",
    "        GROUP BY artist\n",
    "        ORDER BY avg(score))\n",
    "    AND artist in \n",
    "        (SELECT artist \n",
    "        FROM reviews \n",
    "        WHERE pub_date > '2014-01-01')\n",
    "    GROUP BY artist\n",
    "    ORDER BY avg(score) DESC\n",
    "    \"\"\"\n",
    "result = con.execute(query).fetchall()\n",
    "result[1:20]\n",
    "len(result)"
   ]
  },
  {
   "cell_type": "code",
   "execution_count": null,
   "metadata": {},
   "outputs": [],
   "source": []
  }
 ],
 "metadata": {
  "kernelspec": {
   "display_name": "learn-env",
   "language": "python",
   "name": "learn-env"
  },
  "language_info": {
   "codemirror_mode": {
    "name": "ipython",
    "version": 3
   },
   "file_extension": ".py",
   "mimetype": "text/x-python",
   "name": "python",
   "nbconvert_exporter": "python",
   "pygments_lexer": "ipython3",
   "version": "3.6.6"
  }
 },
 "nbformat": 4,
 "nbformat_minor": 2
}
