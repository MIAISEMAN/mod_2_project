{
 "cells": [
  {
   "cell_type": "code",
   "execution_count": 2,
   "metadata": {},
   "outputs": [],
   "source": [
    "import numpy as np\n",
    "from scipy import stats \n",
    "import math\n",
    "import seaborn as sns\n",
    "import matplotlib.pyplot as plt\n",
    "import numpy as np\n",
    "import sqlalchemy\n",
    "from sqlalchemy import create_engine\n",
    "from sqlalchemy.orm import Session, sessionmaker"
   ]
  },
  {
   "cell_type": "code",
   "execution_count": 3,
   "metadata": {},
   "outputs": [],
   "source": [
    "engine = create_engine(\"postgresql:///music\")\n",
    "Session = sessionmaker(bind=engine)\n",
    "session = Session()\n",
    "con = engine.connect()"
   ]
  },
  {
   "cell_type": "code",
   "execution_count": 4,
   "metadata": {},
   "outputs": [],
   "source": [
    "query = \"\"\"\n",
    "    SELECT artist\n",
    "    FROM reviews \n",
    "    WHERE artist in (SELECT artist FROM reviews where pub_date > '2014-01-01') \n",
    "    AND pub_date < '2010-01-01' \n",
    "    GROUP BY artist\n",
    "    ORDER BY avg(score) DESC\n",
    "    LIMIT 20\n",
    "    \"\"\"\n",
    "result = con.execute(query).fetchall()"
   ]
  },
  {
   "cell_type": "code",
   "execution_count": 5,
   "metadata": {},
   "outputs": [
    {
     "data": {
      "text/plain": [
       "['john coltrane',\n",
       " 'the avalanches',\n",
       " 'sly and the family stone',\n",
       " 'the velvet underground',\n",
       " 'pavement',\n",
       " 'loretta lynn',\n",
       " 'jawbox',\n",
       " 'albert ayler',\n",
       " 'the feelies',\n",
       " 'gas',\n",
       " 'blur',\n",
       " 'otis redding',\n",
       " 'elvis presley',\n",
       " 'this heat',\n",
       " 'panda bear',\n",
       " 'rhys chatham',\n",
       " 'red red meat',\n",
       " 'nachtmystium',\n",
       " 'betty davis',\n",
       " 'ennio morricone']"
      ]
     },
     "execution_count": 5,
     "metadata": {},
     "output_type": "execute_result"
    }
   ],
   "source": [
    "artists_list = [tup[0] for tup in result]\n",
    "artists_list"
   ]
  },
  {
   "cell_type": "code",
   "execution_count": 6,
   "metadata": {},
   "outputs": [],
   "source": [
    "query = \"\"\"\n",
    "    SELECT score\n",
    "    FROM reviews\n",
    "    WHERE pub_date > '2014-01-01'\n",
    "    \"\"\"\n",
    "result = con.execute(query).fetchall()"
   ]
  },
  {
   "cell_type": "code",
   "execution_count": 7,
   "metadata": {},
   "outputs": [
    {
     "data": {
      "text/plain": [
       "7.149119865884324"
      ]
     },
     "execution_count": 7,
     "metadata": {},
     "output_type": "execute_result"
    }
   ],
   "source": [
    "modern_mu = np.mean(result)\n",
    "modern_mu"
   ]
  },
  {
   "cell_type": "code",
   "execution_count": 8,
   "metadata": {},
   "outputs": [],
   "source": [
    "artist_modern_scores = {}\n",
    "for artist in artists_list:\n",
    "    query = f\"\"\"\n",
    "    SELECT score\n",
    "    FROM reviews\n",
    "    WHERE pub_date > '2014-01-01'\n",
    "    AND artist = '{artist}'\n",
    "    \"\"\"\n",
    "    result = con.execute(query).fetchall()\n",
    "    scores = [tup[0] for tup in result]\n",
    "    artist_modern_scores[artist] = scores"
   ]
  },
  {
   "cell_type": "code",
   "execution_count": 9,
   "metadata": {},
   "outputs": [
    {
     "data": {
      "text/plain": [
       "{'john coltrane': [10.0, 8.5],\n",
       " 'the avalanches': [8.5],\n",
       " 'sly and the family stone': [7.9],\n",
       " 'the velvet underground': [8.5, 10.0, 10.0, 10.0],\n",
       " 'pavement': [7.0],\n",
       " 'loretta lynn': [8.0],\n",
       " 'jawbox': [7.6],\n",
       " 'albert ayler': [8.4],\n",
       " 'the feelies': [7.9],\n",
       " 'gas': [9.5],\n",
       " 'blur': [7.0],\n",
       " 'otis redding': [9.0],\n",
       " 'elvis presley': [7.0],\n",
       " 'this heat': [9.0],\n",
       " 'panda bear': [7.1, 8.7],\n",
       " 'rhys chatham': [7.6],\n",
       " 'red red meat': [8.0],\n",
       " 'nachtmystium': [3.9],\n",
       " 'betty davis': [6.8],\n",
       " 'ennio morricone': [8.0]}"
      ]
     },
     "execution_count": 9,
     "metadata": {},
     "output_type": "execute_result"
    }
   ],
   "source": [
    "artist_modern_scores"
   ]
  },
  {
   "cell_type": "code",
   "execution_count": 10,
   "metadata": {},
   "outputs": [
    {
     "data": {
      "text/plain": [
       "nan"
      ]
     },
     "execution_count": 10,
     "metadata": {},
     "output_type": "execute_result"
    }
   ],
   "source": [
    "stats.t.ppf(2.5, 0)"
   ]
  },
  {
   "cell_type": "code",
   "execution_count": null,
   "metadata": {},
   "outputs": [],
   "source": []
  },
  {
   "cell_type": "code",
   "execution_count": null,
   "metadata": {},
   "outputs": [],
   "source": []
  }
 ],
 "metadata": {
  "kernelspec": {
   "display_name": "learn-env",
   "language": "python",
   "name": "learn-env"
  },
  "language_info": {
   "codemirror_mode": {
    "name": "ipython",
    "version": 3
   },
   "file_extension": ".py",
   "mimetype": "text/x-python",
   "name": "python",
   "nbconvert_exporter": "python",
   "pygments_lexer": "ipython3",
   "version": "3.6.6"
  }
 },
 "nbformat": 4,
 "nbformat_minor": 2
}
