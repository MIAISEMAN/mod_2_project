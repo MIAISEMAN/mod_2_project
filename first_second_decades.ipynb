{
 "cells": [
  {
   "cell_type": "code",
   "execution_count": 1,
   "metadata": {},
   "outputs": [],
   "source": [
    "import numpy as np\n",
    "from scipy import stats \n",
    "import math\n",
    "import seaborn as sns\n",
    "import matplotlib.pyplot as plt\n",
    "import numpy as np\n",
    "import sqlalchemy\n",
    "from sqlalchemy import create_engine\n",
    "from sqlalchemy.orm import Session, sessionmaker"
   ]
  },
  {
   "cell_type": "code",
   "execution_count": 2,
   "metadata": {},
   "outputs": [
    {
     "name": "stdout",
     "output_type": "stream",
     "text": [
      "2019-05-07 17:25:46,316 INFO sqlalchemy.engine.base.Engine select version()\n",
      "2019-05-07 17:25:46,317 INFO sqlalchemy.engine.base.Engine {}\n",
      "2019-05-07 17:25:46,319 INFO sqlalchemy.engine.base.Engine select current_schema()\n",
      "2019-05-07 17:25:46,320 INFO sqlalchemy.engine.base.Engine {}\n",
      "2019-05-07 17:25:46,321 INFO sqlalchemy.engine.base.Engine SELECT CAST('test plain returns' AS VARCHAR(60)) AS anon_1\n",
      "2019-05-07 17:25:46,322 INFO sqlalchemy.engine.base.Engine {}\n",
      "2019-05-07 17:25:46,323 INFO sqlalchemy.engine.base.Engine SELECT CAST('test unicode returns' AS VARCHAR(60)) AS anon_1\n",
      "2019-05-07 17:25:46,324 INFO sqlalchemy.engine.base.Engine {}\n",
      "2019-05-07 17:25:46,325 INFO sqlalchemy.engine.base.Engine show standard_conforming_strings\n",
      "2019-05-07 17:25:46,326 INFO sqlalchemy.engine.base.Engine {}\n"
     ]
    }
   ],
   "source": [
    "engine = create_engine(\"postgresql:///music\", echo=True)\n",
    "Session = sessionmaker(bind=engine)\n",
    "session = Session()\n",
    "con = engine.connect()"
   ]
  },
  {
   "cell_type": "code",
   "execution_count": 38,
   "metadata": {},
   "outputs": [
    {
     "name": "stdout",
     "output_type": "stream",
     "text": [
      "2019-05-07 17:56:43,693 INFO sqlalchemy.engine.base.Engine \n",
      "    SELECT artist, count(reviews), avg(score)\n",
      "    FROM reviews\n",
      "    WHERE pub_date NOT IN (SELECT pub_date FROM reviews WHERE pub_date < '2014-01-01' AND pub_date > '2010-01-01')\n",
      "    AND artist in (SELECT artist FROM reviews where pub_date < '2010-01-01')\n",
      "    AND artist in (SELECT artist FROM reviews where pub_date > '2014-01-01')\n",
      "    GROUP BY artist\n",
      "    ORDER BY avg(score) DESC\n",
      "    \n",
      "2019-05-07 17:56:43,694 INFO sqlalchemy.engine.base.Engine {}\n"
     ]
    },
    {
     "data": {
      "text/plain": [
       "[('john coltrane', 3, 9.5),\n",
       " ('gas', 3, 9.23333326975504),\n",
       " ('otis redding', 3, 9.0),\n",
       " ('the avalanches', 2, 9.0),\n",
       " ('this heat', 3, 9.0),\n",
       " ('sleater-kinney', 5, 8.86000003814697),\n",
       " ('albert ayler', 2, 8.84999990463257),\n",
       " ('caetano veloso', 5, 8.83999996185303),\n",
       " ('pavement', 4, 8.75),\n",
       " ('sly and the family stone', 2, 8.70000004768372),\n",
       " ('life without buildings', 2, 8.69999980926514),\n",
       " ('real estate', 2, 8.65000009536743),\n",
       " ('dr. dre', 2, 8.65000009536743),\n",
       " ('captain beefheart', 2, 8.65000009536743),\n",
       " ('loretta lynn', 2, 8.65000009536743),\n",
       " ('joanna newsom', 4, 8.64999985694885),\n",
       " ('pulp', 3, 8.63333320617676),\n",
       " ('fennesz', 7, 8.62857137407575),\n",
       " ('blur', 5, 8.62000007629394)]"
      ]
     },
     "execution_count": 38,
     "metadata": {},
     "output_type": "execute_result"
    }
   ],
   "source": [
    "query = \"\"\"\n",
    "    SELECT artist, count(reviews), avg(score)\n",
    "    FROM reviews\n",
    "    WHERE pub_date NOT IN (SELECT pub_date FROM reviews WHERE pub_date < '2014-01-01' AND pub_date > '2010-01-01')\n",
    "    AND artist in (SELECT artist FROM reviews where pub_date < '2010-01-01')\n",
    "    AND artist in (SELECT artist FROM reviews where pub_date > '2014-01-01')\n",
    "    GROUP BY artist\n",
    "    ORDER BY avg(score) DESC\n",
    "    \"\"\"\n",
    "result = con.execute(query).fetchall()\n",
    "result[1:20]"
   ]
  },
  {
   "cell_type": "code",
   "execution_count": null,
   "metadata": {},
   "outputs": [],
   "source": []
  }
 ],
 "metadata": {
  "kernelspec": {
   "display_name": "learn-env",
   "language": "python",
   "name": "learn-env"
  },
  "language_info": {
   "codemirror_mode": {
    "name": "ipython",
    "version": 3
   },
   "file_extension": ".py",
   "mimetype": "text/x-python",
   "name": "python",
   "nbconvert_exporter": "python",
   "pygments_lexer": "ipython3",
   "version": "3.6.6"
  }
 },
 "nbformat": 4,
 "nbformat_minor": 2
}
