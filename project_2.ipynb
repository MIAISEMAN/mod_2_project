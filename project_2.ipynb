{
 "cells": [
  {
   "cell_type": "markdown",
   "metadata": {},
   "source": [
    "# Module 2 Final Project Submission\n",
    "This is an assignment and is a fictional study by Pat Fuller and Mia Iseman. All references, though they may exist, are not aware of this project or involved in any way.  \n",
    "* <a href=\"https://github.com/MIAISEMAN/mod_2_project\">Repository URL </a>\n",
    "* <a href=\"https://docs.google.com/presentation/d/1iFk_YmiKlzh46s8aogALnfsZf9R_KxXqXBvpXvXAoNE/edit?usp=sharing\">Presentation URL </a>"
   ]
  },
  {
   "cell_type": "markdown",
   "metadata": {},
   "source": [
    "# Goal: \n",
    "## Deliver insights to help Lou Taylor decide on which musicians to manage or book for residences in Vegas. "
   ]
  },
  {
   "cell_type": "markdown",
   "metadata": {},
   "source": [
    "# Process\n",
    "1. Understand the business needs.\n",
    "2. Understand the data overall. \n",
    "3. For each hypothesis:  \n",
    "    A. Understand the data.  \n",
    "    B. Prepare the data.  \n",
    "    C. Test the hypothesis.   \n",
    "    D. Evaluate our results.  \n",
    "4. Deploy our project."
   ]
  },
  {
   "cell_type": "markdown",
   "metadata": {},
   "source": [
    "# Business Understanding \n",
    "\n",
    "Lou Taylor, one of the most successful managers for musicians, boasts an all-star roster of clients, including Steven Tyler, Gwen Stefani, Florida Georgia Line and J Lo's Vegas residency. \n",
    "\n",
    "She has hired us to deliver insights about several factors that might help her decide on which artists to manage or book for residences in Vegas. As a jumping off point, we will answer the following questions:  \n",
    "<b>\n",
    "1. Are self-released albums scored lower than the wider population?  \n",
    "2. Are \"best new music\" albums more prevalent in a certain genre?\n",
    "3. Of the ten most prolific labels, does one label have more \"best new music\" albums than the others?\n",
    "4. Does one reviewer score albums lower than all others? \n",
    "5. Of the top ten highest-rated artists from the 2000s, does their recent album get scored better than average? </b>"
   ]
  },
  {
   "cell_type": "markdown",
   "metadata": {},
   "source": [
    "## Understand the Data Overall \n",
    "For this project we used the <a href=\"https://www.kaggle.com/nolanbconaway/pitchfork-data\"> Kaggle Pitchfork dataset</a>, which is over 18,000 reviews of musical albums from <a href=\"https://pitchfork.com/reviews/albums/Pitchfork\"> Pitchfork</a> published between 1999 and 2017. \n",
    "\n",
    "One limitation of our dataset is that all these music reviews come from the same company, Pitchfork. As such, our tests are not technically random. (What if other websites for music reviews operate much differently? What if we had data from before 1999 or after 2017, which is not the case here? Most importantly, what if Pitchfork only reviews a certain subset of the overall album population?) Since it is the dataset that we have, it will serve as \"random enough.\" \n",
    "\n",
    "Similarly, another limitation of our findings is that in order to test the data and in order for our results to be relevant at all, we will interpret the entire Pitchfork review dataset as our \"wider population.\" "
   ]
  },
  {
   "cell_type": "markdown",
   "metadata": {},
   "source": [
    "# 1. Are self-released albums scored lower than the wider population?"
   ]
  },
  {
   "cell_type": "markdown",
   "metadata": {},
   "source": [
    "## Understand the data\n",
    "\n",
    "### Data Details\n",
    "Each review is for an album which is released by a record label, except in the case of the self-released albums. They are released by the artists themselves. \n",
    "We want to know if self-released albums get lower scores in their reviews than the wider population. \n",
    "\n",
    "### Hypotheses\n",
    "<b> $H_0=$ Self-released albums are scored the same as or higher than the wider population.\n",
    "\n",
    "$H_a=$ Self-released albums are scored lower than the wider population. </b>\n",
    "\n",
    "### Statistical Significance\n",
    "Even if we find that self-released albums are typically scored lower, we only want to know if this is a $statistically significant$ amount lower. Therefore, we'll decide on an $alpha$ value that will indicate the number of false positives we are comfortable having. As the chance of false positives goes up, the chance of false negatives goes down and vie versa. So we want to think about which one we are more comfortable getting. In this case, a false positive (type 1 error) would be that we say self-released albums are scored lower but they are not scored lower. A false negative (type 2 error), would be that we say self-released albums are scored the same or higher, but they are scored lower. In our estimation, Taylor could potentially ignore all of these self-released artists needlessly with a false positive, so false positives should be minimized. A false negative, however, is not as bad because she may still include self-released albums in her pool of potential musicians to represent. We put this false-positive-acceptance-rate into a number called $alpha$:\n",
    "\n",
    "$$alpha =.025$$\n",
    "\n",
    "What does this mean? Assume we do this same hypothesis test 40 different times, and each time the results tell us to accept that the self-released albums score lower. $alpha=.025$ indicates we are comfortable being wrong only one of those forty times."
   ]
  },
  {
   "cell_type": "markdown",
   "metadata": {},
   "source": [
    "## Prepare the data\n"
   ]
  },
  {
   "cell_type": "markdown",
   "metadata": {},
   "source": [
    "## Test\n",
    "We will test the hypotheses the question by doing a one sample z-test since our data is sufficiently large. This is the case for the other hypotheses as well unless otherwise mentioned."
   ]
  },
  {
   "cell_type": "markdown",
   "metadata": {},
   "source": [
    "## Evaluate\n",
    "We were unable to find evidence against the hypothesis that self-released artist mean scores are equal to the overall album population (p=0.4) with the current sample size. More data will be needed."
   ]
  },
  {
   "cell_type": "markdown",
   "metadata": {},
   "source": [
    "# 2. Are \"best new music\" albums more prevelant in a certain genre?"
   ]
  },
  {
   "cell_type": "markdown",
   "metadata": {},
   "source": [
    "## Understand the data\n",
    "\n",
    "### Data Details\n",
    "Each album that gets reviewed has the opportunity to be dubbed \"Best New Music\" (BNM). Most do not receieve this title. Each album also belongs to one particular genre. \n",
    "\n",
    "We want to know if the best new music title is given out more often in one or more specific genres. \n",
    "\n",
    "### Hypotheses\n",
    "<b> $H_0=$ BNM albums equally prevalent across genres.\n",
    "\n",
    "$H_a=$ BNM albums are more prevalent in one of the genres.\n",
    "</b>\n",
    "### Statistical Significance  \n",
    "False positive: We say BNM albums are more prevalent in one or more genres, but they aren't.  \n",
    "False negative: We say BNM albums are not more prevalent in one or more genres, but they are.    \n",
    "We prefer to have false positives in this case, because a false negative means Taylor may potentially miss out on an important trend- one genre being \"better\" than the others. So, we choose   \n",
    "$$alpha=.1$$   \n",
    "We're comfortable with being wrong about them being more prevalent in a certain genre one out of 10 times.\n",
    "Assume we do this same hypothesis test 10 different times, and each time the results tell us to accept that BNM albums are more prevalent in a certain genre. We are okay with being wrong one in ten times, which is fairly often, because if there is even a small chance that we could pick up on a trend, then we want Taylor to pay attention to that trend. If it turns out to be a dead end, that is okay compared to missing a trend. \n",
    "\n",
    "However, because we aren't just comparing to the overall population but rather to the spread of BNM titles <i> per genre </i> our alpha will actually need to become smaller to account for all the false positives possible in all the different alphas that one genre depends on. We show that in our work below using the Boneferroni Correction.  "
   ]
  },
  {
   "cell_type": "markdown",
   "metadata": {},
   "source": [
    "## Prepare the data\n"
   ]
  },
  {
   "cell_type": "markdown",
   "metadata": {},
   "source": [
    "## Test\n",
    "We will test the hypotheses the question by doing a one sample t-test. "
   ]
  },
  {
   "cell_type": "markdown",
   "metadata": {},
   "source": [
    "## Evaluate\n",
    "Although we did find that the self-released albums are scored lower (t_val>t_crit), we did not find this to be a statistically significant amount lower. (GRaph?) "
   ]
  },
  {
   "cell_type": "markdown",
   "metadata": {},
   "source": [
    "# 3. Of the ten most prolific labels, does one label have more \"best new music\" albums than the others?"
   ]
  },
  {
   "cell_type": "markdown",
   "metadata": {},
   "source": [
    "## Understand the data\n",
    "\n",
    "### Hypotheses\n",
    "<b> $H_0=$ BNM albums are equally prevalent across the ten most prolific labels.\n",
    "\n",
    "$H_a=$ BNM albums are more prevalent in one or more of the most prolific labels.\n",
    "</b>\n",
    "### Statistical Significance  \n",
    "False positive: We say BNM albums are more prevalent among one or more labels, but they aren't.  \n",
    "False negative: We say BNM albums are not more prevalent in one or more labels, but they are.  \n",
    "Simliar to question 2, we prefer to have false positives in this case, because a false negative means Taylor may potentially miss out on one label being \"better\" than the others. So, we choose   \n",
    "$$alpha=.1$$ \n",
    "Again, we want to err on the side of recognizing a trend instead of missing one. We will use the Boneferroni Correction again in this instance since we are comparing multiple labels.  "
   ]
  },
  {
   "cell_type": "markdown",
   "metadata": {},
   "source": [
    "## Prepare the data\n"
   ]
  },
  {
   "cell_type": "markdown",
   "metadata": {},
   "source": [
    "## Test\n",
    "We will test the hypotheses the question by doing a one sample t-test. "
   ]
  },
  {
   "cell_type": "markdown",
   "metadata": {},
   "source": [
    "## Evaluate\n",
    "Although we did find that the self-released albums are scored lower (t_val>t_crit), we did not find this to be a statistically significant amount lower. (GRaph?) "
   ]
  },
  {
   "cell_type": "markdown",
   "metadata": {},
   "source": [
    "# 4. Does one reviewer score albums lower than all others? "
   ]
  },
  {
   "cell_type": "markdown",
   "metadata": {},
   "source": [
    "## Understand the data\n",
    "\n",
    "### Data Details\n",
    "Pitchfork has a lot of authors that write reviews. It is unclear how these authors are chosen or who they are.  \n",
    "We want to know if there is one reviewer that gives consistently low scores. If we compared all the authors to each other, we would need to use the Bonferonni correction and thus have a very low alpha threshold. Instead of likely accetping the null hypothesis, we will find the reviewer that has an above-average amount of reviews written but the lowest average review score. "
   ]
  },
  {
   "cell_type": "code",
   "execution_count": 3,
   "metadata": {},
   "outputs": [],
   "source": [
    "#finding alison"
   ]
  },
  {
   "cell_type": "markdown",
   "metadata": {},
   "source": [
    "### Hypotheses\n",
    "<b> $H_0=$ Alison Fields' scores are not much different than all the other scores. \n",
    "\n",
    "$H_a=$ Alison Fields' scores are lower than all the other scores.\n",
    "</b>\n",
    "### Statistical Significance  \n",
    "False positive: We say Fields scores lower but she doesn't.\n",
    "False negative: We say Fields scores are the same but they are lower. \n",
    "We prefer to have false positives in this case, because a false negative means Taylor may be influenced by Fields unecessarily, whereas a false positive means she will be extra cautious of anything from Alison Fields. \n",
    "$$alpha=.2$$   \n",
    "We're comfortable with being wrong about Fields scoring lower one in five times. We're this comfortable because she is only one reviewer of many, and there are several other factors that Taylor evaluates by. It's not as if we're firing Fields, but it would be nice to know to ignore her if she is a \"troll.\" "
   ]
  },
  {
   "cell_type": "markdown",
   "metadata": {},
   "source": [
    "## Prepare the data\n"
   ]
  },
  {
   "cell_type": "markdown",
   "metadata": {},
   "source": [
    "## Test\n",
    "We will test the hypotheses the question by doing a one sample t-test. "
   ]
  },
  {
   "cell_type": "markdown",
   "metadata": {},
   "source": [
    "## Evaluate\n",
    "Although we did find that the self-released albums are scored lower (t_val>t_crit), we did not find this to be a statistically significant amount lower. (GRaph?) "
   ]
  },
  {
   "cell_type": "markdown",
   "metadata": {},
   "source": [
    "# 5. Of the top twenty highest-rated artists from the 2000s, does their recent album get scored better than average?  "
   ]
  },
  {
   "cell_type": "markdown",
   "metadata": {},
   "source": [
    "## Understand the data\n",
    "\n",
    "### Data Details\n",
    "Let's call artists \"prolific\" if they have at least one album review from 1999-2009 (\"the 2000s\") and at least one album review from 2014-2017 (\"modern times\"). Who are the 20 prolific artists that had the highest average album scores from the 2000s? "
   ]
  },
  {
   "cell_type": "code",
   "execution_count": 5,
   "metadata": {},
   "outputs": [],
   "source": [
    "#find top twenty artists"
   ]
  },
  {
   "cell_type": "markdown",
   "metadata": {},
   "source": [
    "### Hypotheses\n",
    "<b> $H_0=$ The artists in this subset do not have scores that are higher than the modern average.\n",
    "\n",
    "$H_a=$ One or more artist(s) in this subset have higher scores than the modern average.\n",
    "</b>\n",
    "### Statistical Significance  \n",
    "False positive: We say the artists have higher scores than the modern average, but they don't.\n",
    "False negative: We say the artists do not have higher scores than modern average, but they do. \n",
    "We want to minimize false positives because Taylor may spend more time on these promising artists for potential Vegas residencies. We don't want to waste time on artists that wer're not very confident are going to be successful, which would be the case with a false positive. \n",
    "$$alpha=.01$$   \n",
    "We will use the Boneferonni Correction here as well. "
   ]
  },
  {
   "cell_type": "markdown",
   "metadata": {},
   "source": [
    "## Prepare the data\n"
   ]
  },
  {
   "cell_type": "markdown",
   "metadata": {},
   "source": [
    "## Evaluate\n",
    "Although we did find that the self-released albums are scored lower (t_val>t_crit), we did not find this to be a statistically significant amount lower. (GRaph?) "
   ]
  },
  {
   "cell_type": "markdown",
   "metadata": {},
   "source": [
    "# Deployment \n",
    "How to use this information."
   ]
  },
  {
   "cell_type": "code",
   "execution_count": null,
   "metadata": {},
   "outputs": [],
   "source": []
  }
 ],
 "metadata": {
  "kernelspec": {
   "display_name": "Python 3",
   "language": "python",
   "name": "python3"
  },
  "language_info": {
   "codemirror_mode": {
    "name": "ipython",
    "version": 3
   },
   "file_extension": ".py",
   "mimetype": "text/x-python",
   "name": "python",
   "nbconvert_exporter": "python",
   "pygments_lexer": "ipython3",
   "version": "3.7.3"
  }
 },
 "nbformat": 4,
 "nbformat_minor": 2
}
