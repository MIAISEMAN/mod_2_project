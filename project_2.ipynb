{
 "cells": [
  {
   "cell_type": "markdown",
   "metadata": {},
   "source": [
    "# Module 2 Final Project Submission\n",
    "* Team Name: (Mia Iseman and Pat Fuller)  \n",
    "* Repository URL:\n",
    "* Presentation URL: "
   ]
  },
  {
   "cell_type": "markdown",
   "metadata": {},
   "source": [
    "# Goal: \n",
    "## Generate meaningful analytical insights to Universal Music Group based on their ratings and reviews. \n",
    "\n",
    "\n",
    "## Process - will this be hypothesis testing entirely? \n",
    "1. Understand the business needs\n",
    "2. Understand the data\n",
    "3. Prepare the data\n",
    "4. Model\n",
    "5. Evaluate\n",
    "6. Deploy\n",
    "\n",
    "## Business Understanding \n",
    "\n",
    "### Project Context \n",
    "\n",
    "\n",
    "### Business Needs\n"
   ]
  },
  {
   "cell_type": "markdown",
   "metadata": {},
   "source": [
    "## Data Understanding "
   ]
  },
  {
   "cell_type": "markdown",
   "metadata": {},
   "source": [
    "## Data Preparation"
   ]
  },
  {
   "cell_type": "markdown",
   "metadata": {},
   "source": [
    "## Modeling"
   ]
  },
  {
   "cell_type": "markdown",
   "metadata": {},
   "source": [
    "## Evaluation"
   ]
  },
  {
   "cell_type": "markdown",
   "metadata": {},
   "source": [
    "## Deployment \n",
    "(be sure to frame our limitations and what no-relationship means) \n"
   ]
  }
 ],
 "metadata": {
  "kernelspec": {
   "display_name": "Python 3",
   "language": "python",
   "name": "python3"
  },
  "language_info": {
   "codemirror_mode": {
    "name": "ipython",
    "version": 3
   },
   "file_extension": ".py",
   "mimetype": "text/x-python",
   "name": "python",
   "nbconvert_exporter": "python",
   "pygments_lexer": "ipython3",
   "version": "3.7.3"
  }
 },
 "nbformat": 4,
 "nbformat_minor": 2
}
