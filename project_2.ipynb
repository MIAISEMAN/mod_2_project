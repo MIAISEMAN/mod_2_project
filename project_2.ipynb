{
 "cells": [
  {
   "cell_type": "markdown",
   "metadata": {},
   "source": [
    "# Module 2 Final Project Submission\n",
    "* Team Name: M.I.A. Paper Pats (Mia Iseman and Pat Fuller)  \n",
    "* Repository URL:\n",
    "* Presentation URL: "
   ]
  },
  {
   "cell_type": "markdown",
   "metadata": {},
   "source": [
    "# Goal: \n",
    "## Deliver insights to help Lou Taylor decide on which musicians to manage or book for residences in Vegas. \n",
    "\n",
    "\n",
    "## Process\n",
    "1. Understand the business needs\n",
    "2. Understand the data\n",
    "3. Prepare the data\n",
    "4. Model\n",
    "5. Evaluate\n",
    "6. Deploy\n",
    "\n",
    "## Business Understanding \n",
    "\n",
    "Lou Taylor, one of the most successful managers for musicians, boasts an all-star roster of clients, including Steven Tyler, Gwen Stefani, Florida Georgia Line and J Lo's Vegas residency. \n",
    "\n",
    "She has hired us to deliver insights about several factors that might help her decide on which artists to manage or book for residences in Vegas. As a jumping off point, we will answer the following questions: \n",
    "1. Are self-released albums rated differently than the wider population?\n",
    "2. Are \"best new music\" albums more prevelant in a certain genre?  BONFERRONI IF MULTIPLE CHECK\n",
    "3. Of the highest-rated labels, does on label have more \"best new music\" albums than the others(could do pop or could to other top ten?\n",
    "4. Does one reviewer tend to review more harshly than all the other reviews? \n",
    "5. Reach Goal: Look at the artists with at least one album review from 1999-2009 and at least one album review from 2014-2017. Of the top (three) highest-rated artists, is their recent album scored better than the average 2014-2017 album?"
   ]
  },
  {
   "cell_type": "markdown",
   "metadata": {},
   "source": [
    "## Data Understanding "
   ]
  },
  {
   "cell_type": "markdown",
   "metadata": {},
   "source": [
    "1. Are self-released albums scored lower than the wider population? \n",
    "\n",
    "$H_0=$ Self-released albums are scored the same as or higher than the wider population.\n",
    "\n",
    "$H_a=$ Self-released albums are scored lower than the wider population.\n",
    "\n",
    "$p$_$value=.025$  \n",
    "\n",
    "2. Are \"Best New Music\" albums more prevalent in a certain genre? MACARONI/GENRE N \n",
    "\n",
    "$H_0=$ BNM albums equally prevalent across genres.\n",
    "\n",
    "$H_a=$ BNM albums are more prevalent in a one or more genres.\n",
    "\n",
    "false positive = we say BNM albums are more prevalent in one or more genres, but they aren't\n",
    "false negative = we say BNM albums are not more prevalent in one or more genres but they are\n",
    "\n",
    "$p$_$value=.1$ (we're comfortable with being wrong about them being more prevalent in a certain genre one out of 10 times  - partially because if there is even a small chance that we see this pattern, we should take advantage of it, but if it doesn't actually exist it's no harm no foul - it's more okay to be wrong? )\n",
    "\n",
    "3. Of the highest-scored labels, does on label have more \"best new music\" albums than the others?\n",
    "\n",
    "$H_0=$ Of the highest-scored labels, BNM albums are equally prevalent across labels.\n",
    "\n",
    "$H_a=$ Of the hightest-scored labels, BNM albums are more prevalent in one or more labels.\n",
    "\n",
    "$p$_$value=.1$ (we're comfortable with being wrong about them being more prevalent across labels one out of 10 times  - partially because if there is even a small chance that we see this pattern, we should take advantage of it, but if it doesn't actually exist it's no harm no foul - it's more okay to be wrong? )\n",
    "\n",
    "4. Does the reviewer giving the lowest average scores review more harshly than the average review score?\n",
    "\n",
    "$H_0=$ X reviewer's scores are not much different than all the other scores. \n",
    "\n",
    "$H_a=$ X reviewer's scores are much different than all the other scores.\n",
    "\n",
    "$p$_$value=.2$ (we're comfortable with being wrong about the reviewers scores being much different one out of 5 times  - partially because if there is even a small chance that you should ignore this one reviewer, we should take advantage of it, but if it doesn't actually exist it's not like we're firing that reviewer - we are just ignoring them needlessly) \n",
    "\n",
    "5. Reach Goal: Look at the artists with at least one album review from 1999-2009 and at least one album review from 2014-2017. Of the top (three) highest-rated (from 1999-2009) artists, is their recent album scored better than the average 2014-2017 album?\n",
    "\n",
    "$H_0=$ The artists in this subset do not have scores that are higher than the modern average. \n",
    "\n",
    "$H_a=$ An artist(s) in this subset have higher scores than the modern average. MACARONI/3\n",
    "\n",
    "false_positive = we say these artists have higher scores than the modern average, but they don't \n",
    "false_negative = we say these artists do not have higher scores than the modern average, but they do \n",
    "\n",
    "$p$_$value=.01$ (we're comfortable with being wrong about this 1 out of 100 times because we don't want to have a false positive - we don't want to waste time on artists that wer're not very confident are going to be successful (false positives)"
   ]
  },
  {
   "cell_type": "markdown",
   "metadata": {},
   "source": [
    "## Data Preparation"
   ]
  },
  {
   "cell_type": "markdown",
   "metadata": {},
   "source": [
    "We used pgloader to create our database and used SQL to query the database. \n",
    "\n",
    "1. Are self-released albums scored lower than the wider population? \n",
    "\n",
    "$H_0=$ Self-released albums are scored the same as or higher than the wider population.\n",
    "\n",
    "$H_a=$ Self-released albums are scored lower than the wider population.\n",
    "\n",
    "false positive = type 1 error =  we say sr are scored lower, but they aren't \n",
    "\n",
    "false negative = type 2 error = we say sr are not scored lower, but they are \n",
    "\n",
    "$p$_$value=.025$ (we're comfortable with one out of forty tests where we say they are lower, but they aren't, we want to be pretty sure that we're getting this right because we're telling her to ignore a whole \"label\" - if we say \"they aren't scored lower and they are, then they are still getting ignored and that's okay) \n",
    "\n",
    "One-sample test makes sense here: \n",
    "- We assume the mean of the Pitchfork data is a close enough approximation of the population mean. \n",
    "- We don't have a control group and a experiment group - we have access to the \"total population\" and don't \"need\" a control group to represent that other part of the population. \n",
    "\n",
    "\n",
    "4. Does the reviewer giving the lowest average scores review more harshly than the average review score?\n",
    "\n",
    "$H_0=$ X reviewer's scores are not much different than all the other scores. \n",
    "\n",
    "$H_a=$ X reviewer's scores are much different than all the other scores.\n",
    "\n",
    "$p$_$value=.2$ (we're comfortable with being wrong about the reviewers scores being much different one out of 5 times  - partially because if there is even a small chance that you should ignore this one reviewer, we should take advantage of it, but if it doesn't actually exist it's not like we're firing that reviewer - we are just ignoring them needlessly) \n"
   ]
  },
  {
   "cell_type": "markdown",
   "metadata": {},
   "source": [
    "## Modeling"
   ]
  },
  {
   "cell_type": "markdown",
   "metadata": {},
   "source": [
    "Pat's jn\n"
   ]
  },
  {
   "cell_type": "markdown",
   "metadata": {},
   "source": [
    "## Evaluation"
   ]
  },
  {
   "cell_type": "markdown",
   "metadata": {},
   "source": [
    "## Deployment \n",
    "(be sure to frame our limitations and what no-relationship means) \n"
   ]
  }
 ],
 "metadata": {
  "kernelspec": {
   "display_name": "Python 3",
   "language": "python",
   "name": "python3"
  },
  "language_info": {
   "codemirror_mode": {
    "name": "ipython",
    "version": 3
   },
   "file_extension": ".py",
   "mimetype": "text/x-python",
   "name": "python",
   "nbconvert_exporter": "python",
   "pygments_lexer": "ipython3",
   "version": "3.7.3"
  }
 },
 "nbformat": 4,
 "nbformat_minor": 2
}
