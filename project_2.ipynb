{
 "cells": [
  {
   "cell_type": "markdown",
   "metadata": {},
   "source": [
    "# Module 2 Final Project Submission\n",
    "This is an assignment and is a fictional study by Pat Fuller and Mia Iseman. All references, though they may exist, are not aware of this project or involved in any way.  \n",
    "* <a href=\"https://github.com/MIAISEMAN/mod_2_project\">Repository URL </a>\n",
    "* <a href=\"https://docs.google.com/presentation/d/1iFk_YmiKlzh46s8aogALnfsZf9R_KxXqXBvpXvXAoNE/edit?usp=sharing\">Presentation URL </a>"
   ]
  },
  {
   "cell_type": "markdown",
   "metadata": {},
   "source": [
    "# Goal: \n",
    "## Deliver insights to help Lou Taylor decide on which musicians to manage or book for residences in Vegas. "
   ]
  },
  {
   "cell_type": "markdown",
   "metadata": {},
   "source": [
    "# Process\n",
    "1. Understand the business needs.\n",
    "2. Understand the data overall. \n",
    "3. For each hypothesis:  \n",
    "    A. Understand the data.  \n",
    "    B. Prepare the data.  \n",
    "    C. Test the hypothesis.   \n",
    "    D. Evaluate our results.  \n",
    "4. Deploy our project."
   ]
  },
  {
   "cell_type": "markdown",
   "metadata": {},
   "source": [
    "# Business Understanding \n",
    "\n",
    "Lou Taylor, one of the most successful managers for musicians, boasts an all-star roster of clients, including Steven Tyler, Gwen Stefani, Florida Georgia Line and J Lo's Vegas residency. \n",
    "\n",
    "She has hired us to deliver insights about several factors that might help her decide on which artists to manage or book for residences in Vegas. As a jumping off point, we will answer the following questions:  \n",
    "<b>\n",
    "1. Are self-released albums scored lower than the wider population?  \n",
    "2. Are \"best new music\" albums more prevalent in a certain genre?\n",
    "3. Of the ten most prolific labels, does one label have more \"best new music\" albums than the others?\n",
    "4. Does one reviewer score albums lower than all others? \n",
    "5. Of the top ten highest-rated artists from the 2000s, does their recent album get scored better than average? </b>"
   ]
  },
  {
   "cell_type": "markdown",
   "metadata": {},
   "source": [
    "## Understand the Data Overall \n",
    "For this project we used the <a href=\"https://www.kaggle.com/nolanbconaway/pitchfork-data\"> Kaggle Pitchfork dataset</a>, which is over 18,000 reviews of musical albums from <a href=\"https://pitchfork.com/reviews/albums/Pitchfork\"> Pitchfork</a> published between 1999 and 2017. \n",
    "\n",
    "One limitation of our dataset is that all these music reviews come from the same company, Pitchfork. As such, our tests are not technically random. (What if other websites for music reviews operate much differently? What if we had data from before 1999 or after 2017, which is not the case here? Most importantly, what if Pitchfork only reviews a certain subset of the overall album population?) Since it is the dataset that we have, it will serve as \"random enough.\" \n",
    "\n",
    "Similarly, another limitation of our findings is that in order to test the data and in order for our results to be relevant at all, we will interpret the entire Pitchfork review dataset as our \"wider population.\" "
   ]
  },
  {
   "cell_type": "markdown",
   "metadata": {},
   "source": [
    "# 1. Are self-released albums scored lower than the wider population?"
   ]
  },
  {
   "cell_type": "markdown",
   "metadata": {},
   "source": [
    "## Understand the data\n",
    "\n",
    "### Data Details\n",
    "Each review is for an album which is released by a record label, except in the case of the self-released albums. They are released by the artists themselves. \n",
    "We want to know if self-released albums get lower scores in their reviews than the wider population. \n",
    "\n",
    "### Hypotheses\n",
    "<b> $H_0=$ Self-released albums are scored the same as or higher than the wider population.\n",
    "\n",
    "$H_a=$ Self-released albums are scored lower than the wider population. </b>\n",
    "\n",
    "### Statistical Significance\n",
    "Even if we find that self-released albums are typically scored lower, we only want to know if this is a $statistically significant$ amount lower. Therefore, we'll decide on an $alpha$ value that will indicate the number of false positives we are comfortable having. As the chance of false positives goes up, the chance of false negatives goes down and vie versa. So we want to think about which one we are more comfortable getting. In this case, a false positive (type 1 error) would be that we say self-released albums are scored lower but they are not scored lower. A false negative (type 2 error), would be that we say self-released albums are scored the same or higher, but they are scored lower. In our estimation, Taylor could potentially ignore all of these self-released artists needlessly with a false positive, so false positives should be minimized. A false negative, however, is not as bad because she may still include self-released albums in her pool of potential musicians to represent. We put this false-positive-acceptance-rate into a number called $alpha$:\n",
    "\n",
    "$$alpha =.025$$\n",
    "\n",
    "What does this mean? Assume we do this same hypothesis test 40 different times, and each time the results tell us to accept that the self-released albums score lower. $alpha=.025$ indicates we are comfortable being wrong only one of those forty times."
   ]
  },
  {
   "cell_type": "markdown",
   "metadata": {},
   "source": [
    "## Prepare the data\n"
   ]
  },
  {
   "cell_type": "code",
   "execution_count": 2,
   "metadata": {},
   "outputs": [],
   "source": [
    "#import necessary libraries \n",
    "import numpy as np\n",
    "from scipy import stats \n",
    "import math\n",
    "import seaborn as sns\n",
    "import matplotlib.pyplot as plt\n",
    "import numpy as np\n",
    "import pandas as pd\n",
    "\n",
    "import sqlalchemy\n",
    "from sqlalchemy import create_engine\n",
    "from sqlalchemy.orm import Session, sessionmaker"
   ]
  },
  {
   "cell_type": "code",
   "execution_count": 3,
   "metadata": {},
   "outputs": [],
   "source": [
    "#create connection to query the SQL database \n",
    "engine = create_engine(\"postgresql:///music\")\n",
    "Session = sessionmaker(bind=engine)\n",
    "session = Session()\n",
    "con = engine.connect()"
   ]
  },
  {
   "cell_type": "code",
   "execution_count": 4,
   "metadata": {},
   "outputs": [],
   "source": [
    "# Find mu of review scores\n",
    "query = \"\"\"\n",
    "    SELECT score\n",
    "    FROM reviews\n",
    "\"\"\"\n",
    "result = con.execute(query).fetchall()\n",
    "scores_all_labels = np.array(result)"
   ]
  },
  {
   "cell_type": "code",
   "execution_count": 5,
   "metadata": {},
   "outputs": [
    {
     "name": "stdout",
     "output_type": "stream",
     "text": [
      "[9.3]\n",
      "9.3\n"
     ]
    }
   ],
   "source": [
    "print(scores_all_labels[0])\n",
    "print(scores_all_labels[0][0])"
   ]
  },
  {
   "cell_type": "code",
   "execution_count": 6,
   "metadata": {},
   "outputs": [],
   "source": [
    "# The scores are nested, lets slice by index to extract them.\n",
    "scores_all_labels = scores_all_labels[:,0]"
   ]
  },
  {
   "cell_type": "code",
   "execution_count": 7,
   "metadata": {},
   "outputs": [
    {
     "data": {
      "text/plain": [
       "9.3"
      ]
     },
     "execution_count": 7,
     "metadata": {},
     "output_type": "execute_result"
    }
   ],
   "source": [
    "scores_all_labels[0]"
   ]
  },
  {
   "cell_type": "code",
   "execution_count": 8,
   "metadata": {},
   "outputs": [
    {
     "data": {
      "text/plain": [
       "7.005779372587398"
      ]
     },
     "execution_count": 8,
     "metadata": {},
     "output_type": "execute_result"
    }
   ],
   "source": [
    "mu_review_score = scores_all_labels.mean()\n",
    "mu_review_score"
   ]
  },
  {
   "cell_type": "code",
   "execution_count": 9,
   "metadata": {},
   "outputs": [],
   "source": [
    "#Retreive and array of scores for self-released albums\n",
    "query = \"\"\"\n",
    "    SELECT score\n",
    "    FROM reviews\n",
    "    JOIN labels\n",
    "    USING(reviewid)\n",
    "    WHERE label = 'self-released'\n",
    "    \"\"\"\n",
    "result = con.execute(query).fetchall()\n",
    "scores_self_released = np.array(result)[:,0]"
   ]
  },
  {
   "cell_type": "code",
   "execution_count": 10,
   "metadata": {},
   "outputs": [
    {
     "data": {
      "image/png": "[encoded data removed]",
      "text/plain": [
       "<Figure size 1080x864 with 1 Axes>"
      ]
     },
     "metadata": {
      "needs_background": "light"
     },
     "output_type": "display_data"
    }
   ],
   "source": [
    "plt.figure(figsize=(15,12))\n",
    "plt.style.use('seaborn')\n",
    "sns.distplot(scores_all_labels, color='green', label='All Labels')\n",
    "sns.distplot(scores_self_released, label='Self-Released');\n",
    "plt.ylabel('Probability Density')\n",
    "plt.xlabel('Review Score')\n",
    "plt.title('Self-Released Scores vs All scores')\n",
    "plt.legend();"
   ]
  },
  {
   "cell_type": "markdown",
   "metadata": {},
   "source": [
    "## Test\n",
    "We will test the hypotheses the question by doing a one sample one-tail z-test since our data is sufficiently large. This is the case for the other hypotheses as well unless otherwise mentioned. This is a one-tail test since $H_a$ is only referencing scores that are lower than the average."
   ]
  },
  {
   "cell_type": "code",
   "execution_count": 11,
   "metadata": {},
   "outputs": [
    {
     "name": "stdout",
     "output_type": "stream",
     "text": [
      "\n",
      "    t_val: -1.6196902904798227\n",
      "    t_crit: -1.9656418415415793\n",
      "    p_val: 0.10605118857851459\n",
      "    alpha: 0.025\n",
      "    \n"
     ]
    }
   ],
   "source": [
    "alpha = 0.025\n",
    "\n",
    "t_val, p_val = stats.ttest_1samp(scores_self_released, mu_review_score)\n",
    "\n",
    "df = len(scores_self_released)-1\n",
    "t_crit = stats.t.ppf(alpha, df)\n",
    "\n",
    "print(f\"\"\"\n",
    "    t_val: {t_val}\n",
    "    t_crit: {t_crit}\n",
    "    p_val: {p_val}\n",
    "    alpha: {alpha}\n",
    "    \"\"\")"
   ]
  },
  {
   "cell_type": "markdown",
   "metadata": {},
   "source": [
    "## Evaluate"
   ]
  },
  {
   "cell_type": "code",
   "execution_count": 12,
   "metadata": {},
   "outputs": [
    {
     "data": {
      "text/plain": [
       "False"
      ]
     },
     "execution_count": 12,
     "metadata": {},
     "output_type": "execute_result"
    }
   ],
   "source": [
    "t_val < t_crit"
   ]
  },
  {
   "cell_type": "code",
   "execution_count": 13,
   "metadata": {},
   "outputs": [
    {
     "data": {
      "text/plain": [
       "False"
      ]
     },
     "execution_count": 13,
     "metadata": {},
     "output_type": "execute_result"
    }
   ],
   "source": [
    "p_val < alpha"
   ]
  },
  {
   "cell_type": "markdown",
   "metadata": {},
   "source": [
    "We were unable to find evidence against the hypothesis that self-released mean scores are equal to the overall album population with the current sample size."
   ]
  },
  {
   "cell_type": "markdown",
   "metadata": {},
   "source": [
    "# 2. Are \"best new music\" albums more prevelant in a certain genre?"
   ]
  },
  {
   "cell_type": "markdown",
   "metadata": {},
   "source": [
    "## Understand the data\n",
    "\n",
    "### Data Details\n",
    "Each album that gets reviewed has the opportunity to be dubbed \"Best New Music\" (BNM). Most do not receieve this title. Each album also belongs to one particular genre. \n",
    "\n",
    "We want to know if the best new music title is given out more often in one or more specific genres. \n",
    "\n",
    "### Hypotheses\n",
    "<b> $H_0=$ BNM albums equally prevalent across genres.\n",
    "\n",
    "$H_a=$ BNM albums are more prevalent in one of the genres.\n",
    "</b>\n",
    "### Statistical Significance  \n",
    "False positive: We say BNM albums are more prevalent in one or more genres, but they aren't.  \n",
    "False negative: We say BNM albums are not more prevalent in one or more genres, but they are.    \n",
    "We prefer to have false positives in this case, because a false negative means Taylor may potentially miss out on an important trend- one genre being \"better\" than the others. So, we choose   \n",
    "$$alpha=.1$$   \n",
    "We're comfortable with being wrong about them being more prevalent in a certain genre one out of 10 times.\n",
    "Assume we do this same hypothesis test 10 different times, and each time the results tell us to accept that BNM albums are more prevalent in a certain genre. We are okay with being wrong one in ten times, which is fairly often, because if there is even a small chance that we could pick up on a trend, then we want Taylor to pay attention to that trend. If it turns out to be a dead end, that is okay compared to missing a trend. \n",
    "\n",
    "However, because we aren't just comparing to the overall population but rather to the spread of BNM titles <i> per genre </i> our alpha will actually need to become smaller to account for all the false positives possible in all the different alphas that one genre depends on. We show that in our work below using the Boneferroni Correction.  "
   ]
  },
  {
   "cell_type": "markdown",
   "metadata": {},
   "source": [
    "## Prepare the data\n"
   ]
  },
  {
   "cell_type": "code",
   "execution_count": 14,
   "metadata": {},
   "outputs": [],
   "source": [
    "# Find mu_bnm\n",
    "query = \"\"\"\n",
    "    SELECT best_new_music\n",
    "    FROM reviews\n",
    "    \"\"\"\n",
    "result = con.execute(query).fetchall()\n",
    "bnms = np.array(result)[:,0]"
   ]
  },
  {
   "cell_type": "code",
   "execution_count": 15,
   "metadata": {},
   "outputs": [
    {
     "data": {
      "text/plain": [
       "0.05126950470287609"
      ]
     },
     "execution_count": 15,
     "metadata": {},
     "output_type": "execute_result"
    }
   ],
   "source": [
    "mu_bnm = bnms.mean()\n",
    "mu_bnm"
   ]
  },
  {
   "cell_type": "code",
   "execution_count": 16,
   "metadata": {},
   "outputs": [],
   "source": [
    "#Generate List of Genres\n",
    "query = \"\"\"\n",
    "    SELECT genre\n",
    "    FROM genres\n",
    "    GROUP BY genre\n",
    "    \"\"\"\n",
    "result = con.execute(query).fetchall()\n",
    "genres = np.array(result)[:,0]"
   ]
  },
  {
   "cell_type": "code",
   "execution_count": 17,
   "metadata": {},
   "outputs": [
    {
     "data": {
      "text/plain": [
       "array(['global', 'experimental', 'metal', None, 'electronic',\n",
       "       'folk/country', 'pop/r&b', 'jazz', 'rap', 'rock'], dtype=object)"
      ]
     },
     "execution_count": 17,
     "metadata": {},
     "output_type": "execute_result"
    }
   ],
   "source": [
    "genres"
   ]
  },
  {
   "cell_type": "code",
   "execution_count": 18,
   "metadata": {},
   "outputs": [],
   "source": [
    "#Drop None from genres, first coerce to list\n",
    "genres = list(genres)\n",
    "genres.remove(None)"
   ]
  },
  {
   "cell_type": "code",
   "execution_count": 19,
   "metadata": {},
   "outputs": [
    {
     "data": {
      "text/plain": [
       "['global',\n",
       " 'experimental',\n",
       " 'metal',\n",
       " 'electronic',\n",
       " 'folk/country',\n",
       " 'pop/r&b',\n",
       " 'jazz',\n",
       " 'rap',\n",
       " 'rock']"
      ]
     },
     "execution_count": 19,
     "metadata": {},
     "output_type": "execute_result"
    }
   ],
   "source": [
    "genres"
   ]
  },
  {
   "cell_type": "code",
   "execution_count": 20,
   "metadata": {},
   "outputs": [],
   "source": [
    "#Find bnm frequency\n",
    "bnm_by_genre = {}\n",
    "for genre in genres:\n",
    "    query = f\"\"\"\n",
    "    SELECT best_new_music\n",
    "    FROM reviews\n",
    "    JOIN genres\n",
    "    USING (reviewid)\n",
    "    WHERE genre = '{genre}'\n",
    "    \"\"\"\n",
    "    result = con.execute(query).fetchall() \n",
    "    bnm_array =  np.array(result)[:,0]\n",
    "    bnm_by_genre[genre]=bnm_array"
   ]
  },
  {
   "cell_type": "code",
   "execution_count": 21,
   "metadata": {},
   "outputs": [
    {
     "data": {
      "image/png": "[encoded data removed]",
      "text/plain": [
       "<Figure size 720x576 with 1 Axes>"
      ]
     },
     "metadata": {},
     "output_type": "display_data"
    },
    {
     "name": "stdout",
     "output_type": "stream",
     "text": [
      "Global: \n",
      "     genre mean: 0.0411\n",
      "  mu population: 0.05127\n",
      "\n",
      "Experimental: \n",
      "     genre mean: 0.06722\n",
      "  mu population: 0.05127\n",
      "\n",
      "Metal: \n",
      "     genre mean: 0.03016\n",
      "  mu population: 0.05127\n",
      "\n",
      "Electronic: \n",
      "     genre mean: 0.04827\n",
      "  mu population: 0.05127\n",
      "\n",
      "Folk/Country: \n",
      "     genre mean: 0.03942\n",
      "  mu population: 0.05127\n",
      "\n",
      "Pop/R&B: \n",
      "     genre mean: 0.05936\n",
      "  mu population: 0.05127\n",
      "\n",
      "Jazz: \n",
      "     genre mean: 0.03908\n",
      "  mu population: 0.05127\n",
      "\n",
      "Rap: \n",
      "     genre mean: 0.05067\n",
      "  mu population: 0.05127\n",
      "\n",
      "Rock: \n",
      "     genre mean: 0.05616\n",
      "  mu population: 0.05127\n",
      "\n"
     ]
    }
   ],
   "source": [
    "mean_bnms = [bnm_by_genre[genre].mean() for genre in genres]\n",
    "plt.figure(figsize=(10,8))\n",
    "plt.barh(genres, mean_bnms, alpha=0.8, color='orange')\n",
    "plt.vlines(mu_bnm,-0.5,8.5, linestyles='dashed', \n",
    "           colors='red', label='Average For All Genres')\n",
    "plt.legend()\n",
    "plt.title('Frequency of Best New Music Per Genre')\n",
    "plt.show()\n",
    "\n",
    "for genre, mean in zip(genres, mean_bnms):\n",
    "    print(f'{genre.title()}: \\n'\n",
    "        f'     genre mean: {round(mean, 5)}\\n'\n",
    "        f'  mu population: {round(mu_bnm, 5)}\\n')"
   ]
  },
  {
   "cell_type": "markdown",
   "metadata": {},
   "source": [
    "## Test\n",
    "This is a one-tail test since $H_a$ is only referencing BNM frequencies that are above the average frequency."
   ]
  },
  {
   "cell_type": "code",
   "execution_count": 22,
   "metadata": {},
   "outputs": [
    {
     "data": {
      "text/plain": [
       "0.011111111111111112"
      ]
     },
     "execution_count": 22,
     "metadata": {},
     "output_type": "execute_result"
    }
   ],
   "source": [
    "alpha = 0.1\n",
    "bonferroni_alpha = alpha / len(genres)\n",
    "bonferroni_alpha"
   ]
  },
  {
   "cell_type": "code",
   "execution_count": 23,
   "metadata": {},
   "outputs": [
    {
     "data": {
      "text/plain": [
       "{'global': {'t_val': -0.7566877930227294,\n",
       "  't_crit': 2.3029922469382376,\n",
       "  'p_val': 0.45005391992707033},\n",
       " 'experimental': {'t_val': 2.712667340358848,\n",
       "  't_crit': 2.2885122631793666,\n",
       "  'p_val': 0.006737474504092826},\n",
       " 'metal': {'t_val': -3.6211575950131696,\n",
       "  't_crit': 2.290690243733693,\n",
       "  'p_val': 0.00031043031912163075},\n",
       " 'electronic': {'t_val': -0.870763140434117,\n",
       "  't_crit': 2.2874675746937077,\n",
       "  'p_val': 0.3839374628045431},\n",
       " 'folk/country': {'t_val': -1.593193149477528,\n",
       "  't_crit': 2.2917644970463025,\n",
       "  'p_val': 0.1115788415997883},\n",
       " 'pop/r&b': {'t_val': 1.294829883663111,\n",
       "  't_crit': 2.289038550669228,\n",
       "  'p_val': 0.1955877965837994},\n",
       " 'jazz': {'t_val': -1.3103617221416028,\n",
       "  't_crit': 2.294779786135665,\n",
       "  'p_val': 0.19076654702094978},\n",
       " 'rap': {'t_val': -0.10725778282023768,\n",
       "  't_crit': 2.288835335272128,\n",
       "  'p_val': 0.9145982851368573},\n",
       " 'rock': {'t_val': 2.0618796291729073,\n",
       "  't_crit': 2.2869252842832197,\n",
       "  'p_val': 0.03924651490612707}}"
      ]
     },
     "execution_count": 23,
     "metadata": {},
     "output_type": "execute_result"
    }
   ],
   "source": [
    "tests_by_genre = {}\n",
    "for genre in bnm_by_genre:\n",
    "    bnms = bnm_by_genre[genre]\n",
    "    t_val, p_val = stats.ttest_1samp(bnms, mu_bnm)\n",
    "    tests_by_genre[genre] = {\n",
    "        't_val' : t_val,\n",
    "        't_crit' : stats.t.ppf(1-bonferroni_alpha, len(bnms) -1),\n",
    "        'p_val' : p_val,\n",
    "    }\n",
    "tests_by_genre"
   ]
  },
  {
   "cell_type": "markdown",
   "metadata": {},
   "source": [
    "## Evaluate"
   ]
  },
  {
   "cell_type": "code",
   "execution_count": 53,
   "metadata": {},
   "outputs": [
    {
     "data": {
      "image/png": "[encoded data removed]",
      "text/plain": [
       "<Figure size 720x432 with 1 Axes>"
      ]
     },
     "metadata": {},
     "output_type": "display_data"
    },
    {
     "name": "stdout",
     "output_type": "stream",
     "text": [
      "{'t_val': 2.712667340358848, 't_crit': 2.2885122631793666, 'p_val': 0.006737474504092826}\n"
     ]
    }
   ],
   "source": [
    "n = len(bnm_by_genre['experimental'])\n",
    "df = n - 1\n",
    "x = np.linspace(-5, 5, 100)\n",
    "y = stats.t.pdf(x, df)\n",
    "\n",
    "plt.figure(figsize=(10,6))\n",
    "plt.plot(x,y, color='teal', alpha=0.8)\n",
    "\n",
    "t = tests_by_genre['experimental']['t_val']\n",
    "plt.vlines(t, -.01, 0.34, linestyles='dashed', colors='orange', label='T score for genre distribution')\n",
    "\n",
    "t_crit = tests_by_genre['experimental']['t_crit']\n",
    "plt.vlines(t_crit, -.01, 0.34, linestyles='-', colors='black', label='Critical T score for test accuracy')\n",
    "\n",
    "plt.ylabel('Probability Density')\n",
    "plt.xlabel('Deviation from Experimental BNM Average ')\n",
    "plt.title('T Scores for Experimental Best New Music')\n",
    "plt.legend()\n",
    "plt.show()\n",
    "print(tests_by_genre['experimental'])"
   ]
  },
  {
   "cell_type": "code",
   "execution_count": 25,
   "metadata": {},
   "outputs": [],
   "source": [
    "test_results_by_genre = {}\n",
    "for genre in tests_by_genre:\n",
    "    t_val = tests_by_genre[genre]['t_val']\n",
    "    t_crit = tests_by_genre[genre]['t_crit']\n",
    "    p_val = tests_by_genre[genre]['p_val']\n",
    "    if t_val > t_crit and np.abs(p_val) < bonferroni_alpha:\n",
    "        test_results_by_genre[genre] = f'Our findings indicate ' \\\n",
    "        f'that the alternative hypothesis is accepted with a p-val of {p_val}.'\n",
    "    else: \n",
    "        test_results_by_genre[genre] = 'We fail to reject the null hypothesis.'"
   ]
  },
  {
   "cell_type": "code",
   "execution_count": 26,
   "metadata": {
    "scrolled": true
   },
   "outputs": [
    {
     "data": {
      "text/plain": [
       "{'global': 'We fail to reject the null hypothesis.',\n",
       " 'experimental': 'Our findings indicate that the alternative hypothesis is accepted with a p-val of 0.006737474504092826.',\n",
       " 'metal': 'We fail to reject the null hypothesis.',\n",
       " 'electronic': 'We fail to reject the null hypothesis.',\n",
       " 'folk/country': 'We fail to reject the null hypothesis.',\n",
       " 'pop/r&b': 'We fail to reject the null hypothesis.',\n",
       " 'jazz': 'We fail to reject the null hypothesis.',\n",
       " 'rap': 'We fail to reject the null hypothesis.',\n",
       " 'rock': 'We fail to reject the null hypothesis.'}"
      ]
     },
     "execution_count": 26,
     "metadata": {},
     "output_type": "execute_result"
    }
   ],
   "source": [
    "test_results_by_genre"
   ]
  },
  {
   "cell_type": "markdown",
   "metadata": {},
   "source": [
    "This test fails to find evidence against the fact that BNM albums are equally prevalent across genres except in the case of the experimental genre. Experimental music tends to have more BNM albums.  "
   ]
  },
  {
   "cell_type": "markdown",
   "metadata": {},
   "source": [
    "# 3. Of the ten most prolific labels, does one label have more \"best new music\" albums than the others?"
   ]
  },
  {
   "cell_type": "markdown",
   "metadata": {},
   "source": [
    "## Understand the data\n",
    "\n",
    "### Hypotheses\n",
    "<b> $H_0=$ BNM albums are equally prevalent across the ten most prolific labels.\n",
    "\n",
    "$H_a=$ BNM albums are more prevalent in one or more of the most prolific labels.\n",
    "</b>\n",
    "### Statistical Significance  \n",
    "False positive: We say BNM albums are more prevalent among one or more labels, but they aren't.  \n",
    "False negative: We say BNM albums are not more prevalent in one or more labels, but they are.  \n",
    "Simliar to question 2, we prefer to have false positives in this case, because a false negative means Taylor may potentially miss out on one label being \"better\" than the others. So, we choose   \n",
    "$$alpha=.1$$ \n",
    "Again, we want to err on the side of recognizing a trend instead of missing one. We will use the Boneferroni Correction again in this instance since we are comparing multiple labels.  "
   ]
  },
  {
   "cell_type": "markdown",
   "metadata": {},
   "source": [
    "## Prepare the data\n"
   ]
  },
  {
   "cell_type": "code",
   "execution_count": 27,
   "metadata": {},
   "outputs": [
    {
     "name": "stdout",
     "output_type": "stream",
     "text": [
      "self-released\n",
      "drag city\n",
      "sub pop\n",
      "thrill jockey\n",
      "merge\n",
      "warp\n",
      "domino\n",
      "columbia\n",
      "matador\n",
      "warner bros.\n"
     ]
    }
   ],
   "source": [
    "# Find ten largest labels\n",
    "query = \"\"\"\n",
    "    SELECT count(score), label, avg(best_new_music)\n",
    "    FROM labels\n",
    "    JOIN reviews\n",
    "    USING(reviewid)\n",
    "    GROUP BY label\n",
    "    ORDER BY count(score) DESC\n",
    "    LIMIT 10\n",
    "    \"\"\"\n",
    "result = con.execute(query).fetchall()\n",
    "top_labels = pd.DataFrame(result, columns=['number_of_reviews', 'label_name', 'avgerage_best_new_music'])\n",
    "top_labels\n",
    "\n",
    "for label in top_labels.label_name:\n",
    "    print(label)"
   ]
  },
  {
   "cell_type": "code",
   "execution_count": 28,
   "metadata": {},
   "outputs": [],
   "source": [
    "#Find bnm per label from our list\n",
    "bnm_by_label = {}\n",
    "for label in top_labels.label_name:\n",
    "    query = f\"\"\"\n",
    "    SELECT best_new_music\n",
    "    FROM reviews\n",
    "    JOIN labels\n",
    "    USING (reviewid)\n",
    "    WHERE label = '{label}'\n",
    "    \"\"\"\n",
    "    result = con.execute(query).fetchall() \n",
    "    bnm_array =  np.array(result)[:,0]\n",
    "    bnm_by_label[label]=bnm_array"
   ]
  },
  {
   "cell_type": "markdown",
   "metadata": {},
   "source": [
    "## Test\n",
    "This is a one-tail test since $H_a$ is only referencing BNM frequencies that are above the average frequency."
   ]
  },
  {
   "cell_type": "code",
   "execution_count": 29,
   "metadata": {},
   "outputs": [
    {
     "name": "stdout",
     "output_type": "stream",
     "text": [
      "0.05126950470287609    0.1\n"
     ]
    }
   ],
   "source": [
    "print(mu_bnm, '  ', alpha)"
   ]
  },
  {
   "cell_type": "code",
   "execution_count": 30,
   "metadata": {},
   "outputs": [
    {
     "data": {
      "text/plain": [
       "0.01"
      ]
     },
     "execution_count": 30,
     "metadata": {},
     "output_type": "execute_result"
    }
   ],
   "source": [
    "#Boneferroni correction\n",
    "bonferroni_alpha = alpha / len(top_labels)\n",
    "bonferroni_alpha"
   ]
  },
  {
   "cell_type": "code",
   "execution_count": 31,
   "metadata": {},
   "outputs": [],
   "source": [
    "tests_by_label = {}\n",
    "for label in bnm_by_label:\n",
    "    bnms = bnm_by_label[label]\n",
    "    t_val, p_val = stats.ttest_1samp(bnms, mu_bnm)\n",
    "    tests_by_label[label] = {\n",
    "        't_val' : t_val,\n",
    "        't_crit' : stats.t.ppf(1-bonferroni_alpha, len(bnms) -1),\n",
    "        'p_val' : p_val,\n",
    "    }"
   ]
  },
  {
   "cell_type": "markdown",
   "metadata": {},
   "source": [
    "## Evaluate"
   ]
  },
  {
   "cell_type": "code",
   "execution_count": 32,
   "metadata": {},
   "outputs": [],
   "source": [
    "test_results_by_label = {}\n",
    "for label in tests_by_label:\n",
    "    t_val = tests_by_label[label]['t_val']\n",
    "    t_crit = tests_by_label[label]['t_crit']\n",
    "    p_val = tests_by_label[label]['p_val']\n",
    "    if np.abs(t_val) > np.abs(t_crit) and np.abs(p_val) < bonferroni_alpha:\n",
    "        test_results_by_label[label] = f'Our findings indicate ' \\\n",
    "        f'that the alternative hypothesis is accepted with a p-val of {p_val}.'\n",
    "    else: \n",
    "        test_results_by_label[label] = 'We fail to reject the null hypothesis.'"
   ]
  },
  {
   "cell_type": "code",
   "execution_count": 33,
   "metadata": {},
   "outputs": [
    {
     "data": {
      "text/plain": [
       "{'self-released': 'We fail to reject the null hypothesis.',\n",
       " 'drag city': 'We fail to reject the null hypothesis.',\n",
       " 'sub pop': 'Our findings indicate that the alternative hypothesis is accepted with a p-val of 0.0006908554616336897.',\n",
       " 'thrill jockey': 'Our findings indicate that the alternative hypothesis is accepted with a p-val of 9.361615618190903e-25.',\n",
       " 'merge': 'We fail to reject the null hypothesis.',\n",
       " 'warp': 'Our findings indicate that the alternative hypothesis is accepted with a p-val of 0.009615855389874585.',\n",
       " 'domino': 'Our findings indicate that the alternative hypothesis is accepted with a p-val of 7.376468407991896e-06.',\n",
       " 'columbia': 'We fail to reject the null hypothesis.',\n",
       " 'matador': 'Our findings indicate that the alternative hypothesis is accepted with a p-val of 0.005715176789920098.',\n",
       " 'warner bros.': 'We fail to reject the null hypothesis.'}"
      ]
     },
     "execution_count": 33,
     "metadata": {},
     "output_type": "execute_result"
    }
   ],
   "source": [
    "test_results_by_label"
   ]
  },
  {
   "cell_type": "markdown",
   "metadata": {},
   "source": [
    "This test fails to find evidence against the fact that BNM albums are equally prevalent across the most prolific labels except in the case of the following labels:  \n",
    "Sub Pop  \n",
    "Thrill Jockey  \n",
    "Warp  \n",
    "Domino  \n",
    "Matador  \n",
    "These labels tend to have more BNM albums than average.  "
   ]
  },
  {
   "cell_type": "markdown",
   "metadata": {},
   "source": [
    "# 4. Does one reviewer score albums lower than all others? "
   ]
  },
  {
   "cell_type": "markdown",
   "metadata": {},
   "source": [
    "## Understand the data\n",
    "\n",
    "### Data Details\n",
    "Pitchfork has a lot of authors that write reviews. It is unclear how these authors are chosen or who they are.  \n",
    "We want to know if there is one reviewer that gives consistently low scores. If we compared all the authors to each other, we would need to use the Bonferonni correction and thus have a very low alpha threshold. Instead of likely accetping the null hypothesis, we will find the reviewer that has an above-average amount of reviews written but the lowest average review score. "
   ]
  },
  {
   "cell_type": "code",
   "execution_count": 34,
   "metadata": {},
   "outputs": [
    {
     "data": {
      "text/plain": [
       "[(2, 'jesse fahnestock'),\n",
       " (1, 'edwin stats houghton'),\n",
       " (1, 'the pitchfork staff'),\n",
       " (62, 'kim kelly')]"
      ]
     },
     "execution_count": 34,
     "metadata": {},
     "output_type": "execute_result"
    }
   ],
   "source": [
    "# Find average number of reviews for per reviewer\n",
    "query = \"\"\"\n",
    "    SELECT count(score), author\n",
    "    FROM reviews\n",
    "    GROUP BY author\n",
    "    \"\"\"\n",
    "result = con.execute(query).fetchall()\n",
    "result[:4]"
   ]
  },
  {
   "cell_type": "code",
   "execution_count": 35,
   "metadata": {},
   "outputs": [
    {
     "data": {
      "text/plain": [
       "[2, 1, 1, 62]"
      ]
     },
     "execution_count": 35,
     "metadata": {},
     "output_type": "execute_result"
    }
   ],
   "source": [
    "num_reviews = [tup[0] for tup in result]\n",
    "num_reviews[:4]"
   ]
  },
  {
   "cell_type": "code",
   "execution_count": 36,
   "metadata": {},
   "outputs": [
    {
     "data": {
      "image/png": "[encoded data removed]",
      "text/plain": [
       "<Figure size 576x396 with 1 Axes>"
      ]
     },
     "metadata": {},
     "output_type": "display_data"
    }
   ],
   "source": [
    "plt.hist(num_reviews,bins=20)\n",
    "plt.title('Distribution of Review Counts Per Author');"
   ]
  },
  {
   "cell_type": "code",
   "execution_count": 37,
   "metadata": {},
   "outputs": [
    {
     "data": {
      "image/png": "[encoded data removed]",
      "text/plain": [
       "<Figure size 576x396 with 1 Axes>"
      ]
     },
     "metadata": {},
     "output_type": "display_data"
    }
   ],
   "source": [
    "# There are a lot of counts for authors with less reviews.\n",
    "# Zoom in to the authors with less reviews to analyze the distibution for the bulk of the data.\n",
    "plt.hist(num_reviews, bins=20, range=(1,100))\n",
    "plt.title('*Zoomed In* Distribution of Review Counts Per Author');"
   ]
  },
  {
   "cell_type": "code",
   "execution_count": 38,
   "metadata": {},
   "outputs": [
    {
     "name": "stdout",
     "output_type": "stream",
     "text": [
      "Average Number of Reviews Per Author is:\n",
      "     42.576388888888886\n"
     ]
    }
   ],
   "source": [
    "print('Average Number of Reviews Per Author is:')\n",
    "print('    ',  np.mean(num_reviews))"
   ]
  },
  {
   "cell_type": "code",
   "execution_count": 39,
   "metadata": {},
   "outputs": [
    {
     "data": {
      "text/html": [
       "<div>\n",
       "<style scoped>\n",
       "    .dataframe tbody tr th:only-of-type {\n",
       "        vertical-align: middle;\n",
       "    }\n",
       "\n",
       "    .dataframe tbody tr th {\n",
       "        vertical-align: top;\n",
       "    }\n",
       "\n",
       "    .dataframe thead th {\n",
       "        text-align: right;\n",
       "    }\n",
       "</style>\n",
       "<table border=\"1\" class=\"dataframe\">\n",
       "  <thead>\n",
       "    <tr style=\"text-align: right;\">\n",
       "      <th></th>\n",
       "      <th>author</th>\n",
       "      <th>avg_score</th>\n",
       "      <th>num_reviews</th>\n",
       "    </tr>\n",
       "  </thead>\n",
       "  <tbody>\n",
       "    <tr>\n",
       "      <th>0</th>\n",
       "      <td>alison fields</td>\n",
       "      <td>5.810870</td>\n",
       "      <td>46</td>\n",
       "    </tr>\n",
       "    <tr>\n",
       "      <th>1</th>\n",
       "      <td>adam moerder</td>\n",
       "      <td>6.151675</td>\n",
       "      <td>209</td>\n",
       "    </tr>\n",
       "    <tr>\n",
       "      <th>2</th>\n",
       "      <td>brent dicrescenzo</td>\n",
       "      <td>6.163441</td>\n",
       "      <td>93</td>\n",
       "    </tr>\n",
       "    <tr>\n",
       "      <th>3</th>\n",
       "      <td>joshua love</td>\n",
       "      <td>6.342056</td>\n",
       "      <td>107</td>\n",
       "    </tr>\n",
       "    <tr>\n",
       "      <th>4</th>\n",
       "      <td>liz colville</td>\n",
       "      <td>6.343396</td>\n",
       "      <td>53</td>\n",
       "    </tr>\n",
       "    <tr>\n",
       "      <th>5</th>\n",
       "      <td>ian cohen</td>\n",
       "      <td>6.353934</td>\n",
       "      <td>699</td>\n",
       "    </tr>\n",
       "    <tr>\n",
       "      <th>6</th>\n",
       "      <td>rob mitchum</td>\n",
       "      <td>6.392884</td>\n",
       "      <td>267</td>\n",
       "    </tr>\n",
       "    <tr>\n",
       "      <th>7</th>\n",
       "      <td>jordan sargent</td>\n",
       "      <td>6.486441</td>\n",
       "      <td>59</td>\n",
       "    </tr>\n",
       "    <tr>\n",
       "      <th>8</th>\n",
       "      <td>cory d. byrom</td>\n",
       "      <td>6.507937</td>\n",
       "      <td>63</td>\n",
       "    </tr>\n",
       "    <tr>\n",
       "      <th>9</th>\n",
       "      <td>evan rytlewski</td>\n",
       "      <td>6.515094</td>\n",
       "      <td>53</td>\n",
       "    </tr>\n",
       "  </tbody>\n",
       "</table>\n",
       "</div>"
      ],
      "text/plain": [
       "              author  avg_score  num_reviews\n",
       "0      alison fields   5.810870           46\n",
       "1       adam moerder   6.151675          209\n",
       "2  brent dicrescenzo   6.163441           93\n",
       "3        joshua love   6.342056          107\n",
       "4       liz colville   6.343396           53\n",
       "5          ian cohen   6.353934          699\n",
       "6        rob mitchum   6.392884          267\n",
       "7     jordan sargent   6.486441           59\n",
       "8      cory d. byrom   6.507937           63\n",
       "9     evan rytlewski   6.515094           53"
      ]
     },
     "execution_count": 39,
     "metadata": {},
     "output_type": "execute_result"
    }
   ],
   "source": [
    "# Which of the authors with more reviews than average are giving the lowest scores???\n",
    "query = \"\"\"\n",
    "    SELECT author, avg(score), count(score)\n",
    "    FROM reviews\n",
    "    GROUP BY author\n",
    "    HAVING count(score) > 42.5\n",
    "    ORDER BY avg(score)\n",
    "    LIMIT 10\n",
    "    \"\"\"\n",
    "result = con.execute(query).fetchall()\n",
    "pd.DataFrame(result, columns=['author', 'avg_score', 'num_reviews'])"
   ]
  },
  {
   "cell_type": "code",
   "execution_count": 40,
   "metadata": {},
   "outputs": [],
   "source": [
    "# Retrieve Alison Fields' Distribution\n",
    "query = \"\"\"\n",
    "    SELECT score\n",
    "    FROM reviews\n",
    "    WHERE author = 'alison fields'\n",
    "    \"\"\"\n",
    "result = con.execute(query).fetchall()\n",
    "alison_scores = np.array(result)[:,0]"
   ]
  },
  {
   "cell_type": "code",
   "execution_count": 41,
   "metadata": {},
   "outputs": [
    {
     "data": {
      "image/png": "[encoded data removed]",
      "text/plain": [
       "<Figure size 864x720 with 1 Axes>"
      ]
     },
     "metadata": {},
     "output_type": "display_data"
    }
   ],
   "source": [
    "plt.figure(figsize=(12,10))\n",
    "sns.distplot(alison_scores, color='purple', label='Alison')\n",
    "sns.distplot(scores_all_labels, label='All Authors')\n",
    "plt.ylabel('Probability Density')\n",
    "plt.xlabel('Review Score')\n",
    "plt.legend()\n",
    "plt.title('Review Distributions: Alison vs All');"
   ]
  },
  {
   "cell_type": "markdown",
   "metadata": {},
   "source": [
    "### Hypotheses\n",
    "<b> $H_0=$ Alison Fields' scores are not much different than all the other scores. \n",
    "\n",
    "$H_a=$ Alison Fields' scores are lower than all the other scores.\n",
    "</b>\n",
    "### Statistical Significance  \n",
    "False positive: We say Fields scores lower but she doesn't.\n",
    "False negative: We say Fields scores are the same but they are lower. \n",
    "We prefer to have false positives in this case, because a false negative means Taylor may be influenced by Fields unecessarily, whereas a false positive means she will be extra cautious of anything from Alison Fields. \n",
    "$$alpha=.2$$   \n",
    "We're comfortable with being wrong about Fields scoring lower one in five times. We're this comfortable because she is only one reviewer of many, and there are several other factors that Taylor evaluates by. It's not as if we're firing Fields, but it would be nice to know to ignore her if she is a \"troll.\" "
   ]
  },
  {
   "cell_type": "markdown",
   "metadata": {},
   "source": [
    "## Prepare the data\n"
   ]
  },
  {
   "cell_type": "markdown",
   "metadata": {},
   "source": [
    "We've already prepared the data when searching for Alison!"
   ]
  },
  {
   "cell_type": "markdown",
   "metadata": {},
   "source": [
    "## Test\n",
    "This is a one-tail test since  𝐻𝑎  is only referencing whether Alison rates lower than the average reviewer."
   ]
  },
  {
   "cell_type": "code",
   "execution_count": 42,
   "metadata": {},
   "outputs": [
    {
     "name": "stdout",
     "output_type": "stream",
     "text": [
      "\n",
      "    t_val: -4.535080661412207\n",
      "    t_crit: -0.8496819044581843\n",
      "    p_val: 4.2481512426639494e-05\n",
      "    alpha: 0.2\n",
      "    \n"
     ]
    }
   ],
   "source": [
    "# Alpha is set high to detect the slightest chance of a harsher critic\n",
    "alpha = 0.2\n",
    "\n",
    "t_val, p_val = stats.ttest_1samp(alison_scores, mu_review_score)\n",
    "\n",
    "df = len(alison_scores)-1\n",
    "t_crit = stats.t.ppf(alpha, df)\n",
    "\n",
    "print(f\"\"\"\n",
    "    t_val: {t_val}\n",
    "    t_crit: {t_crit}\n",
    "    p_val: {p_val}\n",
    "    alpha: {alpha}\n",
    "    \"\"\")"
   ]
  },
  {
   "cell_type": "markdown",
   "metadata": {},
   "source": [
    "## Evaluate"
   ]
  },
  {
   "cell_type": "code",
   "execution_count": 43,
   "metadata": {
    "scrolled": true
   },
   "outputs": [
    {
     "data": {
      "text/plain": [
       "True"
      ]
     },
     "execution_count": 43,
     "metadata": {},
     "output_type": "execute_result"
    }
   ],
   "source": [
    "t_val < t_crit"
   ]
  },
  {
   "cell_type": "code",
   "execution_count": 44,
   "metadata": {},
   "outputs": [
    {
     "data": {
      "text/plain": [
       "True"
      ]
     },
     "execution_count": 44,
     "metadata": {},
     "output_type": "execute_result"
    }
   ],
   "source": [
    "p_val < alpha"
   ]
  },
  {
   "cell_type": "markdown",
   "metadata": {},
   "source": [
    "This test fails to find evidence that Alison Fields rates all albums equally, and therefore we accept the alternative hypothesis that she scores reviews lower. However, keep in mind our $alpha$ was only .2. There is a 20% chance our results are due to chance. "
   ]
  },
  {
   "cell_type": "markdown",
   "metadata": {},
   "source": [
    "# 5. Of the top twenty highest-rated artists from the 2000s, does their recent album get scored better than average?  "
   ]
  },
  {
   "cell_type": "markdown",
   "metadata": {},
   "source": [
    "## Understand the data\n",
    "\n",
    "### Data Details\n",
    "Let's call artists \"prolific\" if they have at least one album review from 1999-2009 (\"the 2000s\") and at least one album review from 2014-2017 (\"modern times\"). Who are the 20 prolific artists that had the highest average album scores from the 2000s? "
   ]
  },
  {
   "cell_type": "code",
   "execution_count": 45,
   "metadata": {},
   "outputs": [
    {
     "data": {
      "text/plain": [
       "['john coltrane',\n",
       " 'the avalanches',\n",
       " 'sly and the family stone',\n",
       " 'the velvet underground',\n",
       " 'pavement',\n",
       " 'loretta lynn',\n",
       " 'jawbox',\n",
       " 'albert ayler',\n",
       " 'the feelies',\n",
       " 'gas',\n",
       " 'blur',\n",
       " 'otis redding',\n",
       " 'elvis presley',\n",
       " 'this heat',\n",
       " 'panda bear',\n",
       " 'rhys chatham',\n",
       " 'red red meat',\n",
       " 'nachtmystium',\n",
       " 'betty davis',\n",
       " 'ennio morricone']"
      ]
     },
     "execution_count": 45,
     "metadata": {},
     "output_type": "execute_result"
    }
   ],
   "source": [
    "# Find artists with best reviews for first decade that ALSO had an album reviewed recently\n",
    "query = \"\"\"\n",
    "    SELECT artist\n",
    "    FROM reviews \n",
    "    WHERE artist in (SELECT artist FROM reviews where pub_date > '2014-01-01') \n",
    "    AND pub_date < '2010-01-01' \n",
    "    GROUP BY artist\n",
    "    ORDER BY avg(score) DESC\n",
    "    LIMIT 20\n",
    "    \"\"\"\n",
    "result = con.execute(query).fetchall()\n",
    "artists = [tup[0] for tup in result]\n",
    "artists"
   ]
  },
  {
   "cell_type": "markdown",
   "metadata": {},
   "source": [
    "### Hypotheses\n",
    "<b> $H_0=$ The artists in this subset do not have scores that are higher than the modern average.\n",
    "\n",
    "$H_a=$ One or more artist(s) in this subset have higher scores than the modern average.\n",
    "</b>\n",
    "### Statistical Significance  \n",
    "False positive: We say the artists have higher scores than the modern average, but they don't.\n",
    "False negative: We say the artists do not have higher scores than modern average, but they do. \n",
    "We want to minimize false positives because Taylor may spend more time on these promising artists for potential Vegas residencies. We don't want to waste time on artists that wer're not very confident are going to be successful, which would be the case with a false positive. \n",
    "$$alpha=.01$$   \n",
    "We will use the Boneferonni Correction here as well. "
   ]
  },
  {
   "cell_type": "markdown",
   "metadata": {},
   "source": [
    "## Prepare the data\n"
   ]
  },
  {
   "cell_type": "code",
   "execution_count": 46,
   "metadata": {},
   "outputs": [
    {
     "data": {
      "text/plain": [
       "7.149119865884324"
      ]
     },
     "execution_count": 46,
     "metadata": {},
     "output_type": "execute_result"
    }
   ],
   "source": [
    "# Find average score for recent reviews\n",
    "query = \"\"\"\n",
    "    SELECT score\n",
    "    FROM reviews\n",
    "    WHERE pub_date > '2014-01-01'\n",
    "    \"\"\"\n",
    "result = con.execute(query).fetchall()\n",
    "modern_mu = np.mean(result)\n",
    "modern_mu"
   ]
  },
  {
   "cell_type": "code",
   "execution_count": 47,
   "metadata": {},
   "outputs": [
    {
     "data": {
      "text/plain": [
       "{'john coltrane': [10.0, 8.5],\n",
       " 'the avalanches': [8.5],\n",
       " 'sly and the family stone': [7.9],\n",
       " 'the velvet underground': [8.5, 10.0, 10.0, 10.0],\n",
       " 'pavement': [7.0],\n",
       " 'loretta lynn': [8.0],\n",
       " 'jawbox': [7.6],\n",
       " 'albert ayler': [8.4],\n",
       " 'the feelies': [7.9],\n",
       " 'gas': [9.5],\n",
       " 'blur': [7.0],\n",
       " 'otis redding': [9.0],\n",
       " 'elvis presley': [7.0],\n",
       " 'this heat': [9.0],\n",
       " 'panda bear': [7.1, 8.7],\n",
       " 'rhys chatham': [7.6],\n",
       " 'red red meat': [8.0],\n",
       " 'nachtmystium': [3.9],\n",
       " 'betty davis': [6.8],\n",
       " 'ennio morricone': [8.0]}"
      ]
     },
     "execution_count": 47,
     "metadata": {},
     "output_type": "execute_result"
    }
   ],
   "source": [
    "# Find scores of artists for modern releases\n",
    "artist_modern_scores = {}\n",
    "for artist in artists:\n",
    "    query = f\"\"\"\n",
    "    SELECT score\n",
    "    FROM reviews\n",
    "    WHERE pub_date > '2014-01-01'\n",
    "    AND artist = '{artist}'\n",
    "    \"\"\"\n",
    "    result = con.execute(query).fetchall()\n",
    "    scores = [tup[0] for tup in result]\n",
    "    artist_modern_scores[artist] = scores\n",
    "artist_modern_scores"
   ]
  },
  {
   "cell_type": "markdown",
   "metadata": {},
   "source": [
    "## Evaluate\n",
    "We cannot continue testing because we do not have enough data to sample. In many cases, these artists are not as prolific as we thought, leaving us with only 1 recent album. This doesn't give us enough degrees of freedom to test this sample set. "
   ]
  },
  {
   "cell_type": "markdown",
   "metadata": {},
   "source": [
    "# Deployment "
   ]
  },
  {
   "cell_type": "markdown",
   "metadata": {},
   "source": [
    "This project is available for perusal at: \n",
    "* <a href=\"https://github.com/MIAISEMAN/mod_2_project\">Repository URL </a>\n",
    "* <a href=\"https://docs.google.com/presentation/d/1iFk_YmiKlzh46s8aogALnfsZf9R_KxXqXBvpXvXAoNE/edit?usp=sharing\">Presentation URL </a>\n",
    "\n",
    "Best of luck using our findings!"
   ]
  }
 ],
 "metadata": {
  "kernelspec": {
   "display_name": "Python 3",
   "language": "python",
   "name": "python3"
  },
  "language_info": {
   "codemirror_mode": {
    "name": "ipython",
    "version": 3
   },
   "file_extension": ".py",
   "mimetype": "text/x-python",
   "name": "python",
   "nbconvert_exporter": "python",
   "pygments_lexer": "ipython3",
   "version": "3.7.3"
  }
 },
 "nbformat": 4,
 "nbformat_minor": 2
}
