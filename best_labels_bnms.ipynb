{
 "cells": [
  {
   "cell_type": "code",
   "execution_count": 1,
   "metadata": {},
   "outputs": [],
   "source": [
    "import numpy as np\n",
    "from scipy import stats \n",
    "import math\n",
    "import seaborn as sns\n",
    "import matplotlib.pyplot as plt\n",
    "import numpy as np\n",
    "\n",
    "import sqlalchemy\n",
    "from sqlalchemy import create_engine\n",
    "from sqlalchemy.orm import Session, sessionmaker"
   ]
  },
  {
   "cell_type": "code",
   "execution_count": 2,
   "metadata": {},
   "outputs": [
    {
     "name": "stdout",
     "output_type": "stream",
     "text": [
      "2019-05-08 16:45:06,707 INFO sqlalchemy.engine.base.Engine select version()\n",
      "2019-05-08 16:45:06,708 INFO sqlalchemy.engine.base.Engine {}\n",
      "2019-05-08 16:45:06,710 INFO sqlalchemy.engine.base.Engine select current_schema()\n",
      "2019-05-08 16:45:06,711 INFO sqlalchemy.engine.base.Engine {}\n",
      "2019-05-08 16:45:06,712 INFO sqlalchemy.engine.base.Engine SELECT CAST('test plain returns' AS VARCHAR(60)) AS anon_1\n",
      "2019-05-08 16:45:06,713 INFO sqlalchemy.engine.base.Engine {}\n",
      "2019-05-08 16:45:06,714 INFO sqlalchemy.engine.base.Engine SELECT CAST('test unicode returns' AS VARCHAR(60)) AS anon_1\n",
      "2019-05-08 16:45:06,715 INFO sqlalchemy.engine.base.Engine {}\n",
      "2019-05-08 16:45:06,716 INFO sqlalchemy.engine.base.Engine show standard_conforming_strings\n",
      "2019-05-08 16:45:06,716 INFO sqlalchemy.engine.base.Engine {}\n"
     ]
    }
   ],
   "source": [
    "engine = create_engine(\"postgresql:///music\", echo=True)\n",
    "Session = sessionmaker(bind=engine)\n",
    "session = Session()\n",
    "con = engine.connect()"
   ]
  },
  {
   "cell_type": "code",
   "execution_count": 32,
   "metadata": {},
   "outputs": [
    {
     "name": "stdout",
     "output_type": "stream",
     "text": [
      "2019-05-08 16:55:06,635 INFO sqlalchemy.engine.base.Engine \n",
      "    SELECT count(score), label, avg(score)\n",
      "    FROM labels\n",
      "    JOIN reviews\n",
      "    USING(reviewid)\n",
      "    GROUP BY label\n",
      "    ORDER BY count(score) DESC\n",
      "    LIMIT 10\n",
      "    \n",
      "2019-05-08 16:55:06,636 INFO sqlalchemy.engine.base.Engine {}\n"
     ]
    },
    {
     "data": {
      "text/plain": [
       "[(420, 'self-released', 6.91761907225563),\n",
       " (272, 'drag city', 7.17022060997346),\n",
       " (268, 'sub pop', 7.11679107556815),\n",
       " (244, 'thrill jockey', 7.06188525625917),\n",
       " (239, 'merge', 7.29121340767609),\n",
       " (217, 'warp', 7.15023041980058),\n",
       " (211, 'domino', 7.35213271362522),\n",
       " (207, 'columbia', 6.98550727977845),\n",
       " (202, 'matador', 7.36138615277734),\n",
       " (168, 'warner bros.', 6.60297619019236)]"
      ]
     },
     "execution_count": 32,
     "metadata": {},
     "output_type": "execute_result"
    }
   ],
   "source": [
    "query = \"\"\"\n",
    "    SELECT count(score), label, avg(score)\n",
    "    FROM labels\n",
    "    JOIN reviews\n",
    "    USING(reviewid)\n",
    "    GROUP BY label\n",
    "    ORDER BY count(score) DESC\n",
    "    LIMIT 10\n",
    "    \"\"\"\n",
    "result = con.execute(query).fetchall()\n",
    "result"
   ]
  },
  {
   "cell_type": "code",
   "execution_count": 33,
   "metadata": {},
   "outputs": [],
   "source": [
    "labels = [tup[1] for tup in result]"
   ]
  },
  {
   "cell_type": "code",
   "execution_count": 35,
   "metadata": {},
   "outputs": [
    {
     "name": "stdout",
     "output_type": "stream",
     "text": [
      "2019-05-08 16:57:46,093 INFO sqlalchemy.engine.base.Engine \n",
      "    SELECT best_new_music\n",
      "    FROM reviews\n",
      "    JOIN labels\n",
      "    USING (reviewid)\n",
      "    WHERE label = 'self-released'\n",
      "    \n",
      "2019-05-08 16:57:46,095 INFO sqlalchemy.engine.base.Engine {}\n",
      "2019-05-08 16:57:46,100 INFO sqlalchemy.engine.base.Engine \n",
      "    SELECT best_new_music\n",
      "    FROM reviews\n",
      "    JOIN labels\n",
      "    USING (reviewid)\n",
      "    WHERE label = 'drag city'\n",
      "    \n",
      "2019-05-08 16:57:46,101 INFO sqlalchemy.engine.base.Engine {}\n",
      "2019-05-08 16:57:46,106 INFO sqlalchemy.engine.base.Engine \n",
      "    SELECT best_new_music\n",
      "    FROM reviews\n",
      "    JOIN labels\n",
      "    USING (reviewid)\n",
      "    WHERE label = 'sub pop'\n",
      "    \n",
      "2019-05-08 16:57:46,107 INFO sqlalchemy.engine.base.Engine {}\n",
      "2019-05-08 16:57:46,112 INFO sqlalchemy.engine.base.Engine \n",
      "    SELECT best_new_music\n",
      "    FROM reviews\n",
      "    JOIN labels\n",
      "    USING (reviewid)\n",
      "    WHERE label = 'thrill jockey'\n",
      "    \n",
      "2019-05-08 16:57:46,112 INFO sqlalchemy.engine.base.Engine {}\n",
      "2019-05-08 16:57:46,118 INFO sqlalchemy.engine.base.Engine \n",
      "    SELECT best_new_music\n",
      "    FROM reviews\n",
      "    JOIN labels\n",
      "    USING (reviewid)\n",
      "    WHERE label = 'merge'\n",
      "    \n",
      "2019-05-08 16:57:46,118 INFO sqlalchemy.engine.base.Engine {}\n",
      "2019-05-08 16:57:46,124 INFO sqlalchemy.engine.base.Engine \n",
      "    SELECT best_new_music\n",
      "    FROM reviews\n",
      "    JOIN labels\n",
      "    USING (reviewid)\n",
      "    WHERE label = 'warp'\n",
      "    \n",
      "2019-05-08 16:57:46,124 INFO sqlalchemy.engine.base.Engine {}\n",
      "2019-05-08 16:57:46,129 INFO sqlalchemy.engine.base.Engine \n",
      "    SELECT best_new_music\n",
      "    FROM reviews\n",
      "    JOIN labels\n",
      "    USING (reviewid)\n",
      "    WHERE label = 'domino'\n",
      "    \n",
      "2019-05-08 16:57:46,130 INFO sqlalchemy.engine.base.Engine {}\n",
      "2019-05-08 16:57:46,136 INFO sqlalchemy.engine.base.Engine \n",
      "    SELECT best_new_music\n",
      "    FROM reviews\n",
      "    JOIN labels\n",
      "    USING (reviewid)\n",
      "    WHERE label = 'columbia'\n",
      "    \n",
      "2019-05-08 16:57:46,136 INFO sqlalchemy.engine.base.Engine {}\n",
      "2019-05-08 16:57:46,141 INFO sqlalchemy.engine.base.Engine \n",
      "    SELECT best_new_music\n",
      "    FROM reviews\n",
      "    JOIN labels\n",
      "    USING (reviewid)\n",
      "    WHERE label = 'matador'\n",
      "    \n",
      "2019-05-08 16:57:46,142 INFO sqlalchemy.engine.base.Engine {}\n",
      "2019-05-08 16:57:46,147 INFO sqlalchemy.engine.base.Engine \n",
      "    SELECT best_new_music\n",
      "    FROM reviews\n",
      "    JOIN labels\n",
      "    USING (reviewid)\n",
      "    WHERE label = 'warner bros.'\n",
      "    \n",
      "2019-05-08 16:57:46,148 INFO sqlalchemy.engine.base.Engine {}\n"
     ]
    }
   ],
   "source": [
    "bnm_by_label = {}\n",
    "for label in labels:\n",
    "    query = f\"\"\"\n",
    "    SELECT best_new_music\n",
    "    FROM reviews\n",
    "    JOIN labels\n",
    "    USING (reviewid)\n",
    "    WHERE label = '{label}'\n",
    "    \"\"\"\n",
    "    result = con.execute(query).fetchall() \n",
    "    bnm_list = [tup[0] for tup in result]\n",
    "    bnm_by_label[label]=bnm_list    "
   ]
  },
  {
   "cell_type": "code",
   "execution_count": 37,
   "metadata": {},
   "outputs": [],
   "source": [
    "mu_pop = 0.05126950470287609\n",
    "alpha = 0.1\n",
    "bonferroni_alpha = alpha / len(labels)"
   ]
  },
  {
   "cell_type": "code",
   "execution_count": 39,
   "metadata": {},
   "outputs": [],
   "source": [
    "tests_by_label = {}\n",
    "for label in bnm_by_label:\n",
    "    bnms = bnm_by_label[label]\n",
    "    t_val, p_val = stats.ttest_1samp(bnms, mu_pop)\n",
    "    tests_by_label[label] = {\n",
    "        't_val' : t_val,\n",
    "        't_crit' : stats.t.ppf(1-bonferroni_alpha, len(bnms) -1),\n",
    "        'p_val' : p_val,\n",
    "    }"
   ]
  },
  {
   "cell_type": "code",
   "execution_count": 67,
   "metadata": {},
   "outputs": [],
   "source": [
    "test_results_by_label = {}\n",
    "for label in tests_by_label:\n",
    "    t_val = tests_by_label[label]['t_val']\n",
    "    t_crit = tests_by_label[label]['t_crit']\n",
    "    p_val = tests_by_label[label]['p_val']\n",
    "    if np.abs(t_val) > np.abs(t_crit) and np.abs(p_val) < bonferroni_alpha:\n",
    "        test_results_by_label[label] = f'This indicates ' \\\n",
    "        f'that the alternative hypothesis is accepted with a p-val of {p_val}.'\n",
    "    else: \n",
    "        test_results_by_label[label] = 'We fail to reject the null hypothesis.'\n",
    "        "
   ]
  },
  {
   "cell_type": "code",
   "execution_count": 68,
   "metadata": {},
   "outputs": [
    {
     "data": {
      "text/plain": [
       "{'self-released': 'We fail to reject the null hypothesis.',\n",
       " 'drag city': 'We fail to reject the null hypothesis.',\n",
       " 'sub pop': 'This indicates that the alternative hypothesis is accepted with a p-val of 0.0006908554616336897.',\n",
       " 'thrill jockey': 'This indicates that the alternative hypothesis is accepted with a p-val of 9.361615618190903e-25.',\n",
       " 'merge': 'We fail to reject the null hypothesis.',\n",
       " 'warp': 'This indicates that the alternative hypothesis is accepted with a p-val of 0.009615855389874585.',\n",
       " 'domino': 'This indicates that the alternative hypothesis is accepted with a p-val of 7.376468407991896e-06.',\n",
       " 'columbia': 'We fail to reject the null hypothesis.',\n",
       " 'matador': 'This indicates that the alternative hypothesis is accepted with a p-val of 0.005715176789920098.',\n",
       " 'warner bros.': 'We fail to reject the null hypothesis.'}"
      ]
     },
     "execution_count": 68,
     "metadata": {},
     "output_type": "execute_result"
    }
   ],
   "source": [
    "test_results_by_label"
   ]
  }
 ],
 "metadata": {
  "kernelspec": {
   "display_name": "learn-env",
   "language": "python",
   "name": "learn-env"
  },
  "language_info": {
   "codemirror_mode": {
    "name": "ipython",
    "version": 3
   },
   "file_extension": ".py",
   "mimetype": "text/x-python",
   "name": "python",
   "nbconvert_exporter": "python",
   "pygments_lexer": "ipython3",
   "version": "3.6.6"
  }
 },
 "nbformat": 4,
 "nbformat_minor": 2
}
