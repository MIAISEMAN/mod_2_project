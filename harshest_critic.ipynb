{
 "cells": [
  {
   "cell_type": "code",
   "execution_count": 1,
   "metadata": {},
   "outputs": [],
   "source": [
    "import numpy as np\n",
    "from scipy import stats \n",
    "import math\n",
    "import seaborn as sns\n",
    "import matplotlib.pyplot as plt\n",
    "import numpy as np\n",
    "import sqlalchemy\n",
    "from sqlalchemy import create_engine\n",
    "from sqlalchemy.orm import Session, sessionmaker"
   ]
  },
  {
   "cell_type": "code",
   "execution_count": 2,
   "metadata": {},
   "outputs": [
    {
     "name": "stdout",
     "output_type": "stream",
     "text": [
      "2019-05-09 15:43:35,123 INFO sqlalchemy.engine.base.Engine select version()\n",
      "2019-05-09 15:43:35,124 INFO sqlalchemy.engine.base.Engine {}\n",
      "2019-05-09 15:43:35,126 INFO sqlalchemy.engine.base.Engine select current_schema()\n",
      "2019-05-09 15:43:35,126 INFO sqlalchemy.engine.base.Engine {}\n",
      "2019-05-09 15:43:35,128 INFO sqlalchemy.engine.base.Engine SELECT CAST('test plain returns' AS VARCHAR(60)) AS anon_1\n",
      "2019-05-09 15:43:35,129 INFO sqlalchemy.engine.base.Engine {}\n",
      "2019-05-09 15:43:35,130 INFO sqlalchemy.engine.base.Engine SELECT CAST('test unicode returns' AS VARCHAR(60)) AS anon_1\n",
      "2019-05-09 15:43:35,130 INFO sqlalchemy.engine.base.Engine {}\n",
      "2019-05-09 15:43:35,131 INFO sqlalchemy.engine.base.Engine show standard_conforming_strings\n",
      "2019-05-09 15:43:35,132 INFO sqlalchemy.engine.base.Engine {}\n"
     ]
    }
   ],
   "source": [
    "engine = create_engine(\"postgresql:///music\", echo=True)\n",
    "Session = sessionmaker(bind=engine)\n",
    "session = Session()\n",
    "con = engine.connect()"
   ]
  },
  {
   "cell_type": "code",
   "execution_count": 3,
   "metadata": {},
   "outputs": [
    {
     "name": "stdout",
     "output_type": "stream",
     "text": [
      "2019-05-09 15:43:35,138 INFO sqlalchemy.engine.base.Engine \n",
      "    SELECT count(score), author\n",
      "    FROM reviews\n",
      "    GROUP BY author\n",
      "    \n",
      "2019-05-09 15:43:35,139 INFO sqlalchemy.engine.base.Engine {}\n"
     ]
    },
    {
     "data": {
      "text/plain": [
       "[(2, 'jesse fahnestock'),\n",
       " (1, 'edwin stats houghton'),\n",
       " (1, 'the pitchfork staff'),\n",
       " (62, 'kim kelly'),\n",
       " (1, 'stephen may'),\n",
       " (67, \"andy o'connor\"),\n",
       " (36, 'michael idov'),\n",
       " (136, 'eric harvey'),\n",
       " (15, 'kris ex'),\n",
       " (1, 'minna zhou ')]"
      ]
     },
     "execution_count": 3,
     "metadata": {},
     "output_type": "execute_result"
    }
   ],
   "source": [
    "query = \"\"\"\n",
    "    SELECT count(score), author\n",
    "    FROM reviews\n",
    "    GROUP BY author\n",
    "    \"\"\"\n",
    "result = con.execute(query).fetchall()\n",
    "result[:10]"
   ]
  },
  {
   "cell_type": "code",
   "execution_count": 4,
   "metadata": {},
   "outputs": [
    {
     "data": {
      "text/plain": [
       "(42.576388888888886, 10.0)"
      ]
     },
     "execution_count": 4,
     "metadata": {},
     "output_type": "execute_result"
    }
   ],
   "source": [
    "num_reviews_per_author=[tup[0] for tup in result]\n",
    "np.mean(num_reviews_per_author), np.median(num_reviews_per_author)"
   ]
  },
  {
   "cell_type": "code",
   "execution_count": 5,
   "metadata": {},
   "outputs": [
    {
     "data": {
      "text/plain": [
       "(array([289.,  46.,  30.,   9.,   7.,   9.,   7.,   5.,   1.,   2.,   8.,\n",
       "          0.,   1.,   6.,   3.,   1.,   1.,   0.,   0.,   0.,   0.,   2.,\n",
       "          0.,   1.,   1.,   0.,   0.,   0.,   0.,   0.,   0.,   0.,   0.,\n",
       "          0.,   1.,   1.,   0.,   0.,   0.,   1.]),\n",
       " array([  1.   ,  21.375,  41.75 ,  62.125,  82.5  , 102.875, 123.25 ,\n",
       "        143.625, 164.   , 184.375, 204.75 , 225.125, 245.5  , 265.875,\n",
       "        286.25 , 306.625, 327.   , 347.375, 367.75 , 388.125, 408.5  ,\n",
       "        428.875, 449.25 , 469.625, 490.   , 510.375, 530.75 , 551.125,\n",
       "        571.5  , 591.875, 612.25 , 632.625, 653.   , 673.375, 693.75 ,\n",
       "        714.125, 734.5  , 754.875, 775.25 , 795.625, 816.   ]),\n",
       " <a list of 40 Patch objects>)"
      ]
     },
     "execution_count": 5,
     "metadata": {},
     "output_type": "execute_result"
    },
    {
     "data": {
      "image/png": "[encoded data removed]",
      "text/plain": [
       "<Figure size 432x288 with 1 Axes>"
      ]
     },
     "metadata": {
      "needs_background": "light"
     },
     "output_type": "display_data"
    }
   ],
   "source": [
    "plt.hist(num_reviews_per_author, bins=40)"
   ]
  },
  {
   "cell_type": "code",
   "execution_count": 6,
   "metadata": {},
   "outputs": [
    {
     "name": "stdout",
     "output_type": "stream",
     "text": [
      "2019-05-09 15:43:35,640 INFO sqlalchemy.engine.base.Engine \n",
      "    SELECT author, avg(score), count(score)\n",
      "    FROM reviews\n",
      "    GROUP BY author\n",
      "    HAVING count(score) > 42.5\n",
      "    ORDER BY avg(score)\n",
      "    \n",
      "2019-05-09 15:43:35,641 INFO sqlalchemy.engine.base.Engine {}\n"
     ]
    },
    {
     "data": {
      "text/plain": [
       "[('alison fields', 5.81086954555434, 46),\n",
       " ('adam moerder', 6.15167464936179, 209),\n",
       " ('brent dicrescenzo', 6.16344088620396, 93),\n",
       " ('joshua love', 6.34205610284181, 107),\n",
       " ('liz colville', 6.34339625430557, 53),\n",
       " ('ian cohen', 6.35393419744545, 699),\n",
       " ('rob mitchum', 6.3928838886795, 267),\n",
       " ('jordan sargent', 6.48644069493827, 59),\n",
       " ('cory d. byrom', 6.50793650415209, 63),\n",
       " ('evan rytlewski', 6.51509436121527, 53)]"
      ]
     },
     "execution_count": 6,
     "metadata": {},
     "output_type": "execute_result"
    }
   ],
   "source": [
    "query = \"\"\"\n",
    "    SELECT author, avg(score), count(score)\n",
    "    FROM reviews\n",
    "    GROUP BY author\n",
    "    HAVING count(score) > 42.5\n",
    "    ORDER BY avg(score)\n",
    "    \"\"\"\n",
    "result = con.execute(query).fetchall()\n",
    "result[:10]"
   ]
  },
  {
   "cell_type": "code",
   "execution_count": 7,
   "metadata": {},
   "outputs": [
    {
     "name": "stdout",
     "output_type": "stream",
     "text": [
      "2019-05-09 15:43:35,926 INFO sqlalchemy.engine.base.Engine \n",
      "    SELECT score\n",
      "    FROM reviews\n",
      "    WHERE author = 'alison fields'\n",
      "    \n",
      "2019-05-09 15:43:35,928 INFO sqlalchemy.engine.base.Engine {}\n"
     ]
    },
    {
     "data": {
      "text/plain": [
       "[(5.5,), (5.9,), (6.0,)]"
      ]
     },
     "execution_count": 7,
     "metadata": {},
     "output_type": "execute_result"
    }
   ],
   "source": [
    "query = \"\"\"\n",
    "    SELECT score\n",
    "    FROM reviews\n",
    "    WHERE author = 'alison fields'\n",
    "    \"\"\"\n",
    "result = con.execute(query).fetchall()\n",
    "result[:3]"
   ]
  },
  {
   "cell_type": "code",
   "execution_count": 8,
   "metadata": {},
   "outputs": [],
   "source": [
    "alison_reviews = [tup[0] for tup in result]"
   ]
  },
  {
   "cell_type": "code",
   "execution_count": 10,
   "metadata": {},
   "outputs": [],
   "source": [
    "mu_pop = 7.005779372587398\n",
    "alpha = 0.2\n",
    "t_val, p_val = stats.ttest_1samp(alison_reviews, mu_pop)\n",
    "t_crit = stats.t.ppf(1-alpha, len(alison_reviews)-1)"
   ]
  },
  {
   "cell_type": "code",
   "execution_count": 21,
   "metadata": {},
   "outputs": [
    {
     "data": {
      "text/plain": [
       "(-4.535080661412207, 0.8496819044581843, True)"
      ]
     },
     "execution_count": 21,
     "metadata": {},
     "output_type": "execute_result"
    }
   ],
   "source": [
    "t_val, t_crit, np.abs(t_val) > np.abs(t_crit)"
   ]
  },
  {
   "cell_type": "code",
   "execution_count": 22,
   "metadata": {},
   "outputs": [
    {
     "data": {
      "text/plain": [
       "(4.2481512426639494e-05, 0.2, True)"
      ]
     },
     "execution_count": 22,
     "metadata": {},
     "output_type": "execute_result"
    }
   ],
   "source": [
    "p_val, alpha, p_val < alpha"
   ]
  },
  {
   "cell_type": "code",
   "execution_count": 24,
   "metadata": {},
   "outputs": [
    {
     "name": "stdout",
     "output_type": "stream",
     "text": [
      "2019-05-07 16:55:40,178 INFO sqlalchemy.engine.base.Engine \n",
      "    SELECT score\n",
      "    FROM reviews\n",
      "\n",
      "2019-05-07 16:55:40,180 INFO sqlalchemy.engine.base.Engine {}\n"
     ]
    }
   ],
   "source": [
    "query = \"\"\"\n",
    "    SELECT score\n",
    "    FROM reviews\n",
    "\"\"\"\n",
    "result = con.execute(query).fetchall()\n",
    "scores_all_labels = np.array(result)"
   ]
  },
  {
   "cell_type": "code",
   "execution_count": 30,
   "metadata": {},
   "outputs": [
    {
     "data": {
      "text/plain": [
       "<matplotlib.axes._subplots.AxesSubplot at 0x1a1a920588>"
      ]
     },
     "execution_count": 30,
     "metadata": {},
     "output_type": "execute_result"
    },
    {
     "data": {
      "image/png": "[encoded data removed]",
      "text/plain": [
       "<Figure size 1080x864 with 1 Axes>"
      ]
     },
     "metadata": {
      "needs_background": "light"
     },
     "output_type": "display_data"
    }
   ],
   "source": [
    "plt.figure(figsize=(15,12))\n",
    "sns.distplot(alison_reviews, color='purple')\n",
    "sns.distplot(scores_all_labels)"
   ]
  },
  {
   "cell_type": "code",
   "execution_count": null,
   "metadata": {},
   "outputs": [],
   "source": []
  }
 ],
 "metadata": {
  "kernelspec": {
   "display_name": "learn-env",
   "language": "python",
   "name": "learn-env"
  },
  "language_info": {
   "codemirror_mode": {
    "name": "ipython",
    "version": 3
   },
   "file_extension": ".py",
   "mimetype": "text/x-python",
   "name": "python",
   "nbconvert_exporter": "python",
   "pygments_lexer": "ipython3",
   "version": "3.6.6"
  }
 },
 "nbformat": 4,
 "nbformat_minor": 2
}
